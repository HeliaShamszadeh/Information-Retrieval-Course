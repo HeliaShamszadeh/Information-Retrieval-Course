{
  "cells": [
    {
      "cell_type": "code",
      "execution_count": 46,
      "metadata": {
        "colab": {
          "base_uri": "https://localhost:8080/"
        },
        "id": "3m7twRAI_RwR",
        "outputId": "4c62dd3a-09a2-4b53-e110-7a365b7ac278"
      },
      "outputs": [
        {
          "name": "stdout",
          "output_type": "stream",
          "text": [
            "Requirement already satisfied: hazm in /usr/local/lib/python3.11/dist-packages (0.10.0)\n",
            "Requirement already satisfied: faiss-cpu in /usr/local/lib/python3.11/dist-packages (1.8.0.post1)\n",
            "Requirement already satisfied: tqdm in /usr/local/lib/python3.11/dist-packages (4.67.1)\n",
            "Requirement already satisfied: fasttext-wheel<0.10.0,>=0.9.2 in /usr/local/lib/python3.11/dist-packages (from hazm) (0.9.2)\n",
            "Requirement already satisfied: flashtext<3.0,>=2.7 in /usr/local/lib/python3.11/dist-packages (from hazm) (2.7)\n",
            "Requirement already satisfied: gensim<5.0.0,>=4.3.1 in /usr/local/lib/python3.11/dist-packages (from hazm) (4.3.3)\n",
            "Requirement already satisfied: nltk<4.0.0,>=3.8.1 in /usr/local/lib/python3.11/dist-packages (from hazm) (3.9.1)\n",
            "Requirement already satisfied: numpy==1.24.3 in /usr/local/lib/python3.11/dist-packages (from hazm) (1.24.3)\n",
            "Requirement already satisfied: python-crfsuite<0.10.0,>=0.9.9 in /usr/local/lib/python3.11/dist-packages (from hazm) (0.9.11)\n",
            "Requirement already satisfied: scikit-learn<2.0.0,>=1.2.2 in /usr/local/lib/python3.11/dist-packages (from hazm) (1.6.1)\n",
            "Requirement already satisfied: packaging in /usr/local/lib/python3.11/dist-packages (from faiss-cpu) (24.2)\n",
            "Requirement already satisfied: pybind11>=2.2 in /usr/local/lib/python3.11/dist-packages (from fasttext-wheel<0.10.0,>=0.9.2->hazm) (2.13.6)\n",
            "Requirement already satisfied: setuptools>=0.7.0 in /usr/local/lib/python3.11/dist-packages (from fasttext-wheel<0.10.0,>=0.9.2->hazm) (75.2.0)\n",
            "Requirement already satisfied: scipy<1.14.0,>=1.7.0 in /usr/local/lib/python3.11/dist-packages (from gensim<5.0.0,>=4.3.1->hazm) (1.13.1)\n",
            "Requirement already satisfied: smart-open>=1.8.1 in /usr/local/lib/python3.11/dist-packages (from gensim<5.0.0,>=4.3.1->hazm) (7.1.0)\n",
            "Requirement already satisfied: click in /usr/local/lib/python3.11/dist-packages (from nltk<4.0.0,>=3.8.1->hazm) (8.1.8)\n",
            "Requirement already satisfied: joblib in /usr/local/lib/python3.11/dist-packages (from nltk<4.0.0,>=3.8.1->hazm) (1.4.2)\n",
            "Requirement already satisfied: regex>=2021.8.3 in /usr/local/lib/python3.11/dist-packages (from nltk<4.0.0,>=3.8.1->hazm) (2024.11.6)\n",
            "Requirement already satisfied: threadpoolctl>=3.1.0 in /usr/local/lib/python3.11/dist-packages (from scikit-learn<2.0.0,>=1.2.2->hazm) (3.6.0)\n",
            "Requirement already satisfied: wrapt in /usr/local/lib/python3.11/dist-packages (from smart-open>=1.8.1->gensim<5.0.0,>=4.3.1->hazm) (1.17.2)\n"
          ]
        }
      ],
      "source": [
        "!pip install hazm faiss-cpu tqdm"
      ]
    },
    {
      "cell_type": "markdown",
      "metadata": {
        "id": "349USzdpzVzp"
      },
      "source": [
        "## Import libraries"
      ]
    },
    {
      "cell_type": "code",
      "execution_count": 36,
      "metadata": {
        "id": "mhKRWyjx_Mq9"
      },
      "outputs": [],
      "source": [
        "import pandas as pd\n",
        "from hazm import Normalizer, WordTokenizer, Stemmer, Lemmatizer, stopwords_list\n",
        "from sklearn.feature_extraction.text import TfidfVectorizer\n",
        "from sklearn.metrics.pairwise import cosine_similarity\n",
        "import faiss\n",
        "import numpy as np\n",
        "from tqdm import tqdm\n",
        "import json\n",
        "from google.colab import files\n",
        "import time"
      ]
    },
    {
      "cell_type": "markdown",
      "metadata": {
        "id": "rrzaImpxzZK3"
      },
      "source": [
        "## Upload dataset:\n",
        "I used BBC Persian News dataset"
      ]
    },
    {
      "cell_type": "code",
      "execution_count": 3,
      "metadata": {
        "colab": {
          "base_uri": "https://localhost:8080/",
          "height": 74
        },
        "id": "ry93VTBTgLA9",
        "outputId": "6b18d705-e22b-42cc-c9a6-581a7f0517c7"
      },
      "outputs": [
        {
          "data": {
            "text/html": [
              "\n",
              "     <input type=\"file\" id=\"files-36a6f1cf-69dd-46fb-b7c8-eb51d7129e88\" name=\"files[]\" multiple disabled\n",
              "        style=\"border:none\" />\n",
              "     <output id=\"result-36a6f1cf-69dd-46fb-b7c8-eb51d7129e88\">\n",
              "      Upload widget is only available when the cell has been executed in the\n",
              "      current browser session. Please rerun this cell to enable.\n",
              "      </output>\n",
              "      <script>// Copyright 2017 Google LLC\n",
              "//\n",
              "// Licensed under the Apache License, Version 2.0 (the \"License\");\n",
              "// you may not use this file except in compliance with the License.\n",
              "// You may obtain a copy of the License at\n",
              "//\n",
              "//      http://www.apache.org/licenses/LICENSE-2.0\n",
              "//\n",
              "// Unless required by applicable law or agreed to in writing, software\n",
              "// distributed under the License is distributed on an \"AS IS\" BASIS,\n",
              "// WITHOUT WARRANTIES OR CONDITIONS OF ANY KIND, either express or implied.\n",
              "// See the License for the specific language governing permissions and\n",
              "// limitations under the License.\n",
              "\n",
              "/**\n",
              " * @fileoverview Helpers for google.colab Python module.\n",
              " */\n",
              "(function(scope) {\n",
              "function span(text, styleAttributes = {}) {\n",
              "  const element = document.createElement('span');\n",
              "  element.textContent = text;\n",
              "  for (const key of Object.keys(styleAttributes)) {\n",
              "    element.style[key] = styleAttributes[key];\n",
              "  }\n",
              "  return element;\n",
              "}\n",
              "\n",
              "// Max number of bytes which will be uploaded at a time.\n",
              "const MAX_PAYLOAD_SIZE = 100 * 1024;\n",
              "\n",
              "function _uploadFiles(inputId, outputId) {\n",
              "  const steps = uploadFilesStep(inputId, outputId);\n",
              "  const outputElement = document.getElementById(outputId);\n",
              "  // Cache steps on the outputElement to make it available for the next call\n",
              "  // to uploadFilesContinue from Python.\n",
              "  outputElement.steps = steps;\n",
              "\n",
              "  return _uploadFilesContinue(outputId);\n",
              "}\n",
              "\n",
              "// This is roughly an async generator (not supported in the browser yet),\n",
              "// where there are multiple asynchronous steps and the Python side is going\n",
              "// to poll for completion of each step.\n",
              "// This uses a Promise to block the python side on completion of each step,\n",
              "// then passes the result of the previous step as the input to the next step.\n",
              "function _uploadFilesContinue(outputId) {\n",
              "  const outputElement = document.getElementById(outputId);\n",
              "  const steps = outputElement.steps;\n",
              "\n",
              "  const next = steps.next(outputElement.lastPromiseValue);\n",
              "  return Promise.resolve(next.value.promise).then((value) => {\n",
              "    // Cache the last promise value to make it available to the next\n",
              "    // step of the generator.\n",
              "    outputElement.lastPromiseValue = value;\n",
              "    return next.value.response;\n",
              "  });\n",
              "}\n",
              "\n",
              "/**\n",
              " * Generator function which is called between each async step of the upload\n",
              " * process.\n",
              " * @param {string} inputId Element ID of the input file picker element.\n",
              " * @param {string} outputId Element ID of the output display.\n",
              " * @return {!Iterable<!Object>} Iterable of next steps.\n",
              " */\n",
              "function* uploadFilesStep(inputId, outputId) {\n",
              "  const inputElement = document.getElementById(inputId);\n",
              "  inputElement.disabled = false;\n",
              "\n",
              "  const outputElement = document.getElementById(outputId);\n",
              "  outputElement.innerHTML = '';\n",
              "\n",
              "  const pickedPromise = new Promise((resolve) => {\n",
              "    inputElement.addEventListener('change', (e) => {\n",
              "      resolve(e.target.files);\n",
              "    });\n",
              "  });\n",
              "\n",
              "  const cancel = document.createElement('button');\n",
              "  inputElement.parentElement.appendChild(cancel);\n",
              "  cancel.textContent = 'Cancel upload';\n",
              "  const cancelPromise = new Promise((resolve) => {\n",
              "    cancel.onclick = () => {\n",
              "      resolve(null);\n",
              "    };\n",
              "  });\n",
              "\n",
              "  // Wait for the user to pick the files.\n",
              "  const files = yield {\n",
              "    promise: Promise.race([pickedPromise, cancelPromise]),\n",
              "    response: {\n",
              "      action: 'starting',\n",
              "    }\n",
              "  };\n",
              "\n",
              "  cancel.remove();\n",
              "\n",
              "  // Disable the input element since further picks are not allowed.\n",
              "  inputElement.disabled = true;\n",
              "\n",
              "  if (!files) {\n",
              "    return {\n",
              "      response: {\n",
              "        action: 'complete',\n",
              "      }\n",
              "    };\n",
              "  }\n",
              "\n",
              "  for (const file of files) {\n",
              "    const li = document.createElement('li');\n",
              "    li.append(span(file.name, {fontWeight: 'bold'}));\n",
              "    li.append(span(\n",
              "        `(${file.type || 'n/a'}) - ${file.size} bytes, ` +\n",
              "        `last modified: ${\n",
              "            file.lastModifiedDate ? file.lastModifiedDate.toLocaleDateString() :\n",
              "                                    'n/a'} - `));\n",
              "    const percent = span('0% done');\n",
              "    li.appendChild(percent);\n",
              "\n",
              "    outputElement.appendChild(li);\n",
              "\n",
              "    const fileDataPromise = new Promise((resolve) => {\n",
              "      const reader = new FileReader();\n",
              "      reader.onload = (e) => {\n",
              "        resolve(e.target.result);\n",
              "      };\n",
              "      reader.readAsArrayBuffer(file);\n",
              "    });\n",
              "    // Wait for the data to be ready.\n",
              "    let fileData = yield {\n",
              "      promise: fileDataPromise,\n",
              "      response: {\n",
              "        action: 'continue',\n",
              "      }\n",
              "    };\n",
              "\n",
              "    // Use a chunked sending to avoid message size limits. See b/62115660.\n",
              "    let position = 0;\n",
              "    do {\n",
              "      const length = Math.min(fileData.byteLength - position, MAX_PAYLOAD_SIZE);\n",
              "      const chunk = new Uint8Array(fileData, position, length);\n",
              "      position += length;\n",
              "\n",
              "      const base64 = btoa(String.fromCharCode.apply(null, chunk));\n",
              "      yield {\n",
              "        response: {\n",
              "          action: 'append',\n",
              "          file: file.name,\n",
              "          data: base64,\n",
              "        },\n",
              "      };\n",
              "\n",
              "      let percentDone = fileData.byteLength === 0 ?\n",
              "          100 :\n",
              "          Math.round((position / fileData.byteLength) * 100);\n",
              "      percent.textContent = `${percentDone}% done`;\n",
              "\n",
              "    } while (position < fileData.byteLength);\n",
              "  }\n",
              "\n",
              "  // All done.\n",
              "  yield {\n",
              "    response: {\n",
              "      action: 'complete',\n",
              "    }\n",
              "  };\n",
              "}\n",
              "\n",
              "scope.google = scope.google || {};\n",
              "scope.google.colab = scope.google.colab || {};\n",
              "scope.google.colab._files = {\n",
              "  _uploadFiles,\n",
              "  _uploadFilesContinue,\n",
              "};\n",
              "})(self);\n",
              "</script> "
            ],
            "text/plain": [
              "<IPython.core.display.HTML object>"
            ]
          },
          "metadata": {},
          "output_type": "display_data"
        },
        {
          "name": "stdout",
          "output_type": "stream",
          "text": [
            "Saving bbcpersian.json to bbcpersian.json\n"
          ]
        }
      ],
      "source": [
        "uploaded = files.upload()\n",
        "filename = list(uploaded.keys())[0]"
      ]
    },
    {
      "cell_type": "markdown",
      "metadata": {
        "id": "NdY3SwWizj7g"
      },
      "source": [
        "## Open dataset file and extract Titles and Bodies"
      ]
    },
    {
      "cell_type": "code",
      "execution_count": 34,
      "metadata": {
        "colab": {
          "base_uri": "https://localhost:8080/"
        },
        "id": "RB3TWnyOi1tZ",
        "outputId": "b487e88b-a79e-45e2-c901-0bb16e01eeb7"
      },
      "outputs": [
        {
          "name": "stdout",
          "output_type": "stream",
          "text": [
            "برای پخش این فایل لطفا جاوا اسکریپت را فعال یا از یک مرورگر دیگر استفاده کنید.\n",
            "تهران و دوبی؛ ملاقات مجازی، منافع حقیقی\n",
            "\n",
            "وزرای خارجه ایران و امارات روز یکشنبه به شکل مجازی با هم ملاقات کردند. امارات از سال ۹۴ و حمله به سفارت عربستان در تهران، سطح روابطش را با ایران کاهش داده، اما از آغاز بحران کرونا، تنش میان دو کشور کاهش یافته است. امارات یکی از نخستین کشورهایی بود که در آغاز بحران کرونا به ایران کمک کرد.\n",
            "کیوان حسینی گزارش می‌دهد.\n",
            "\n",
            "\n",
            "\n",
            "\n",
            "یک نظرسنجی تازه جهانی نشان دهنده عمق اضطرابی است که بسیاری جوانان درباره تغییر اقلیم احساس می کنند.\n",
            "تقریبا ۶۰ درصد جوانانی که در این بررسی مورد پرسش قرار گرفتند گفتند که خیلی یا شدیدا احساس نگرانی می کنند.\n",
            "بیش از ۴۵ درصد پرسش شوندگان گفتند احساسات آنها درباره اقلیم بر زندگی روزمره آنها اثر می گذارد.\n",
            "سه چهارم گفتند که فکر می کنند آینده ترسناک است. بیش از نیمی (۵۶ درصد) گفتند به نظر آنها سرنوشت بشر محتوم است.\n",
            "\n",
            "دو سوم گفتند که احساس اندوه، ترس و اضطراب می کنند. بسیاری احساس بیم، خشم، عجز، اندوه و شرم - و همچنین امید - می کردند.\n",
            "یک جوان ۱۶ ساله گفت: \"برای جوانان متفاوت است - برای ما، تخریب سیاره یک مساله شخصی است.\"\n",
            "این بررسی تحت سرپرستی دانشگاه بث بریتانیا در همکاری با پنج دانشگاه  در ۱۰ کشور جهان انجام شد. منابع این بررسی را کمپین و گروه تحقیق \"آواز\" (Avaaz) تامین کرده است. \"آواز\" می گوید که این بزرگترین مطالعه در نوع خود با پرسش از ۱۰ هزار جوان ۱۶ تا ۲۵ ساله است.\n",
            "\n",
            "بسیاری از پرسش شوندگان احساس می کردند که آینده ای ندارند، سرنوشت بشر محتوم است، و دولت ها در نشان دادن واکنش مناسب ناکام مانده اند.\n",
            "بسیاری احساس می کنند که سیاستمداران و بزرگسالان به آنها خیانت کرده اند، آنها را نادیده گرفته اند و به حال خود رها کرده اند.\n",
            "نویسندگان می گویند که جوانان از بی‌عملی دولت ها سردرگم هستند. به گفته آنها نگرانی های محیط زیستی \"تاثیر عمیقی بر شمار عظیمی از جوانان دارد.\"\n",
            "\n",
            "به اعتقاد آنها فشار مزمن روحی در مورد تغییر اقلیم خطر معضلات روانی و جسمی را افزایش می دهد و اگر رویدادهای شدید آب و هوایی بدتر شود، تاثیر آن بر حال روانی مشهود خواهد بود.\n",
            "این گزارش می گوید که به خصوص جوانان دستخوش نگرانی های اقلیمی‌اند چون از نظر روانی، اجتماعی و جسمی درحال رشد هستند.\n",
            "کارولاین هیکمن نویسنده اصلی این مطالعه از دانشگاه بث به بی‌بی‌سی نیوز گفت: \"این اضطراب فقط به تخریب محیط زیست مربوط نمی شود، بلکه به بی عملی دولت ها در زمینه تغییر اقلیم هم گره خورده است. جوانان احساس می کنند دولت هایشان به آنها خیانت کرده اند و آنها را تنها گذاشته اند.\"\n",
            "\"ما نه فقط احساسات آنها بلکه افکار آنها را سنجیده ام. از هر ده نفر چهار نفر می گویند تردید دارند بچه دار شوند.\"\n",
            "نویسندگان این گزارش که قرار است در نشریه \"لانست، سلامت سیاره\" منتشر شود می گویند به نظر می رسد میزان اضطراب در کشورهایی که سیاست های دولت های آنها در زمینه تغییر اقلیم ضعیف‌تر تلقی می شود بیشتر باشد.\n",
            "بیشترین نگرانی در جنوب زمین مشاهده شد. در میان کشورهای ثروتمند حداکثر دغدغه در پرتغال ثبت شد، کشوری که شاهد آتش سوزی های مکرر طبیعی است.\n",
            "تام بِرک از اندیشکده \"ای ۳ جی\" به بی‌بی‌سی گفت: \"منطقی است که جوانان مضطرب باشند. آنها نه فقط در خبرها درباره تغییر اقلیم می شنوند، بلکه با چشمان خود شاهد وقوع آن هستند.\"\n",
            "این بررسی توسط شرکت تحلیل داده های \"کانتار\" در بریتانیا، فنلاند، فرانسه، آمریکا، استرالیا، پرتغال، برزیل، هند، فیلیپین و نیجریه انجام شد. \n",
            "مسئولان این مطالعه نظر جوانان را در مورد بیانیه های زیر جویا شدند:\n",
            "مردم از سیاره مراقبت نکرده اند: ۸۳ درصد گفتند درست استآینده ترسناک است: ۷۵ درصد موافقت کردنددولت ها همچنان خواست جوانان را نادیده می گیرند: ۶۵ درصد گفتند بلهدولت ها قابل اعتماد هستند: ۳۱ درصد موافقت کردند\n",
            "\n",
            "\n",
            "\n",
            "\n",
            "مجله فرهنگی نیویورکر جفری توبین، یکی از خبرنگاران ارشد خود را پس از عورت‌نمایی او در یک جلسه کاری اینترنتی از کار اخراج کرده است.\n",
            "آقای توبین ۶۰ ساله، که تحلیلگر حقوقی سی‌ان‌ان نیز هست، گفته نمی‌دانسته دوربینش روشن بوده و همکارانش او را می‌دیده‌اند.\n",
            "مالک نیویورکر در ایمیلی به کارکنان اطمینان خاطر داده که \"ما مسائل محیط کار را بسیار جدی می‌گیریم\".\n",
            "مدیر منابع انسانی نیویورکر به کارکنان گفته مدیران این مجموعه متعهدند که فضای کاری محترمانه‌ای بسازند و همگان به هنجارهای رفتاری مورد انتظار پایبند باشند.\n",
            "\n",
            "هاروی واینستین شاکیان آزار جنسی را با ۴۴ میلیون دلار 'راضی می‌کند'آیا آزار جنسی فقط شامل آزار جنسی فیزیکی است؟ کمپین #می_‌تو در مصر؛ بازداشت چندین مرد در مصر در پی کارزاری در اینستاگرامآزار جنسی در محل کار در ایران؛ چه می‌دانیم؟\n",
            "جفری توبین یک ماه پیش و بلافاصله پس از این رویداد از کار معلق شده بود.\n",
            "این اتفاق در روز ۱۵ اکتبر و در جریان یک جلسه کاری روی داد که برای تمرین گزارش انتخابات آمریکا روی زوم برگزار می‌شد.\n",
            "در این تمرین چهره‌های ارشد نیویورکر حضور داشتند و برخی نقش چهره‌های سیاسی مانند دونالد ترامپ و جو بایدن را بازی می‌کردند تا کارکنان برای سناریوهای مختلف انتخابات آمادگی داشته باشند.\n",
            "جفری توبین، که سابقه وکالت و حضور در دستگاه قضایی را دارد، در این تمرین نقش دادگاه‌های رسیدگی‌کننده به دعاوی حقوقی انتخاباتی را بازی می‌کرد.\n",
            "نشریه اینترنتی وایس، که نخستین بار این خبر را گزارش کرد، از قول دو منبع ناشناس که در جلسه بودند نوشت در جریان تمرین گزارش انتخابات، آقای توبین هنگام جلسه وارد اتاق مجازی جداگانه‌ای در همین جلسه زوم شده بوده و به نظر می‌رسید که خودارضایی می‌کند.\n",
            "جفری توبین با عذرخواهی از خانواده، دوستان و همکارانش گفته \"مرتکب یک اشتباه ابلهانه شرم‌آور شدم\".\n",
            "او به وایس توضیح داده: \"فکر می‌کردم روی زوم دیده نمی‌شوم. فکر نمی‌کردم هیچ‌کس می‌تواند مرا ببیند. فکر می‌کردم ویدئوی زوم را بسته بودم.\"\n",
            "زوم نرم‌افزاری است که با همه‌گیری کرونا و دورکاری بسیاری از مشاغل برای برگزاری جلسات کاری اینترنتی از آن استفاده گسترده‌ای می‌شود.\n",
            "اخراج جفری توبین از نیویورکر پایان ۲۷ سال کار او برای این مجله است.\n",
            "یکی از اولین تجربه‌های حرفه‌ای آقای توبین در جریان رسیدگی قضایی به رسوایی ایران-کنترا (مک‌فارلین) و در مقام دستیار بازرس ویژه تحقیقات روی جرایم مقام‌های دولت فدرال آمریکا بود.\n",
            "الیوت آبرامز، مسئول کنونی امور ایران در وزارت خارجه آمریکا یکی از محکومان این پرونده بود.\n",
            "در این رسوایی مقام‌های دولت رونالد ریگان با وجود تحریم تسلیحاتی ایران، مخفیانه جنگ‌افزارهایی به ایران فرستادند و بخشی از درآمد آن را صرف حمایت از شبه‌نظامیان دست راستی \"کنترا\" در نیکاراگوئه کردند.\n",
            "\n",
            "\n",
            "سم شرینگهامبی‌بی‌سی\n",
            "\n",
            "\n",
            "ینس هاس هنوز اولین باری که متوجه شد همکلاسی‌اش، یورگن کلوپ مغز مربی‌گری فوتبال دارد را خیلی خوب به خاطر دارد.\n",
            "آن‌ها ۱۱ سال داشتند، سوار ماشین بودند تا خودشان را به مسابقه تیم جوانان اس‌وی گلاتن، که برایش بازی می‌کردند، برسانند و از رادیو ماشین هم گزارش آخرین بازی اشتوتگارت در بوندس‌لیگا پخش می‌شد.\n",
            "یورگن نوجوان شروع به تحلیل تاکتیک اشتوتگارت کرد و پیشنهاد داد برای تغییر بازی تعویض‌هایی انجام شود. لحظاتی بعد، گزارشگر تعویض‌هایی را اعلام کرد و پیشبینی کلوپ کاملا درست از آب درآمد.\n",
            "هاس به یاد می‌آورد: \"من از دانش و شناختش نسبت به فوتبال متعجب شدم. گاهی فکر می‌کردم که او همین حالا هم یک مربی است.\"\n",
            "\n",
            "کلوپ و لیورپول؛ جادوگر آلمانی چه وردی برای تیمش می‌خواند؟چه داستان‌های جذابی پشت قهرمانی لیورپول بود؟نگاهی به عملکرد سرمربی لیورپول: آتشی که شعله‌ور می‌ماندلیورپول باخت اما چه جایگاهی میان شکست‌ناپذیرها دارد؟\n",
            "روزهایی که کلوپ در دهکده \"بلک فارست\" (جنگل سیاه) مدرسه می‌رفت، سرنخ‌هایی از چگونگی رشد او و تبدیل شدنش به یک مربی کاملا مدرن فوتبال جهان به دست می‌دهد.\n",
            "اولین جایی که قدر کلوپ را دانست، باشگاه ماینتس بود. جایی که او به عنوان بازیکن در آن حضور داشت و بعد به عنوان مربی آن را برای نخستین‌بار به بوندس‌لیگا رساند. در دورتموند موفق شد، مچ بایرن مونیخ، غول بزرگ فوتبال آلمان را بخواباند و حالا در لیورپول، ششمین قهرمانی در اروپا را کسب کرده و قبل از شیوع ویروس کرونا در آستانه نوزدهمین قهرمانی در فوتبال انگلیس بود.\n",
            "یورگن کلوپ مردی است که رابطه‌اش با بازیکنان، هواداران، مسئولان باشگاه و خبرنگاران خوب است. با لبخندی که به لب دارد و رفتاری که از خود نشان می‌دهد، به تماشاگران احساسی لیورپول فهمانده که پیش شخص مناسبی برای رسیدن به رویاهایشان سرمایه‌گذاری کرده‌اند. \n",
            "مصاحبه با افرادی که نقشی کلیدی در سفر کلوپ به آنفیلد داشته‌اند، اطلاعات زیادی در مورد شخصیت و روش‌های این مربی آلمانی به ما می‌دهد. داستانی که از گلاتن در شمال بلک فارست آغاز شد؛ جایی که کلوپ سال‌هایی که شخصیتش شکل گرفت را در آن گذراند.\n",
            "\n",
            "هاس را روبروی یک نانوایی، کنار یک آبنما که به رود گلات (که نام دهکده از آن گرفته شده) می‌ریخت، ملاقات کردیم. این جایی است که یورگن، ینس و بقیه اعضای تیم اس‌وی گلاتن قبل از سفر برای بازی‌های خارج از خانه دور هم جمع می‌شدند.\n",
            "با کمی قدم زدن در کناره سرسبز رودخانه که معمولا بچه‌ها در آن دوچرخه‌سواری می‌کنند، به خانه دوران بچگی کلوپ می‌رسید. خانه سفید بزرگی که مادرش هنوز در آن زندگی می‌کند، مقابل یک تالار پر زرق و برق و کمی دورتر از مدرسه‌ای است که یورگن و ینس در آن درس می‌خواندند.\n",
            "\n",
            "اینجا و در تپه‌های منطقه شوابن -سرزمین ساعت‌های کوکو، لباس‌های سنتی و غذاهای خوش خوراک در جنوب غرب آلمان- بود که حس رهایی در کلوپ شکل گرفت؛ فرسنگ‌ها دورتر از شهرهای صنعتی ماینتس، دورتموند و لیورپول. \n",
            "هاس می‌گوید: \"مردم این جا خیلی ساکت و استوار هستند. آن‌ها محتاطانه پول خرج می‌کنند. دوست دارند کار کنند و افراد را از روی عملکردشان قضاوت می‌کنند.\"\n",
            "\"کمی طول می‌کشد تا یخ اهالی شوابن آب شود، اما اگر با شما رفیق شوند، دوستی برای تمام عمرتان پیدا کرده‌اید. این جا، محلی بسیار خوب برای بزرگ شدن یک بچه است. شما برای خودتان وقت دارید و می‌توانید روی کاری که می‌خواهید انجام دهید، تمرکز کنید.\"\n",
            "یورگن دو خواهر بزرگتر از خودش دارد که می‌گوید مانند مادر دومش هستند، ولی این پدرش نوربرت -فروشنده‌ای دوره‌گرد و دروازه‌بان آماتور سابق- بود که او را تشویق به ورزش کرد.\n",
            "از لاغر غیر قابل اعتماد تا 'هیولای' عضلانی؛ ماجرای ظهور آداما ترائوره مگان راپینو: ستاره‌ای که با ترامپ جر و بحث می‌کند پپ گواردیولا؛ تکلیف سیتی و مربی‌اش چه خواهد شد؟جاشوا- روئیز؛ پشت صحنه ۲۴ ساعتی که بوکس را غافلگیر کرد\n",
            "اولریش راث اولین مربی کلوپ است که سال ۱۹۷۲ تیم زیر ۱۱ سال گلاتن را ایجاد کرد. تیمی که یورگن و ینس همراه با دو پسرش اینگو و هارتی در آن بازی می‌کردند.\n",
            "آقای راث می‌گوید: \"نوربرت تاثیر زیادی داشت و او بود که یورگن را شکل داد. مهم است که بدانیم نوربرت کلاپ متولد گلاتن نیست. او در نزدیکی ماینتس به دنیا آمده است. مردم آنجا کارناوال را جشن می‌گیرند اما در گلاتن و بلک فارست ما این کار را نمی‌کنیم.\"\n",
            "\"نوربرت اینجا در باشگاه خیلی فعال بود، اول در فوتبال بعد از آن در تنیس. یورگن از پدرش خوش بیانی و شور و اشتیاق را گرفت.\"\n",
            "\n",
            "\"مادرش از خانواده‌ای است که مدت‌های طولانی در گلاتن زندگی کرده‌اند. اهالی بلک فارست ساکت و آرام هستند. آن‌ها اغلب مجبورند سخت کار کنند و شخصیت‌های قدرتمندی دارند.\"\n",
            "\"وقتی یورگن بالا و پایین می‌پرید، می‌توانستم نوربرت را درون او ببینم. ولی وقتی که در خانه درها را پشت سرش می‌بست، آرام و بی‌صدا می‌نشست تا نیرویش را جمع کند، مادرش بود.\"\n",
            "کلوپ هافبک و کاپیتان اس‌وی گلاتن بود تا این که در سال‌های پایان نوجوانی به توس ارجنزینگر رفت؛ تیمی بزرگ‌تر از شهری که ۲۵ کیلومتر دورتر بود. راث او را یک \"بازنده بد\" اما \"رهبر بالقوه\" توصیف می‌کند.\n",
            "راث ۷۹ ساله می‌گوید: \" همیشه جلوتر از همه می‌ایستاد و اگر مشکلی وجود داشت در موردش حرف می‌زد. ما رابطه خوبی داشتیم. او بلند پرواز بود و همیشه به هم‌تیمی‌هایش می‌گفت بیاید برویم و حسابشان را برسیم.\"\n",
            "یک طرف زمین فوتبالی که کلوپ در آن بازی می‌کرد با درخت‌های کاج محصور بود و طرف دیگر آن جوی آبی قرار داشت و هاس می‌گوید که تعداد زیادی توپ در اطراف این زمین گم و گور شد.\n",
            "سال ۱۹۸۱، برگزاری مسابقات به طرف دیگر دهکده رفت تا در باشگاه ورزشی جدید برگزار شود؛ جایی که لباس زرد و مشکی تیم شباهت زیادی به لباس اول بورسیا دورتموند داشت. عکسی که کلوپ در دوران حضور در دورتموند امضا کرد و به زادگاه‌اش تقدیم کرد، در میان سایر جام‌ها و یادبودهای باشگاه به چشم می‌خورد.\n",
            "این باشگاه همچنین محلی بود که اهالی دهکده به افتخار معروف‌ترین پسرشان جشن گرفتند: سال ۲۰۱۱ که دورتموند با هدایت کلوپ قهرمان بوندس‌لیگا شد.\n",
            "\n",
            "در میان شور و تشویق حاضران کلوپ روی صحنه رفت تا برای بچه محل‌های سابقش سخنرانی کند. هاس می‌گوید: \"فوق‌العاده بود. برای یک دقیقه او مربی حرفه‌ای دورتموند بود و بعد تبدیل شد به همان همکلاسی قدیمی. او به دهکده علاقه داشت، به آن چیزی که بود و با مردم به لهجه محلی حرف می‌زد.\"\n",
            "راث این روزها نمی‌تواند شاگرد سابقش را ملاقات کند، اما خوب یادش است که از تبریک تلفنی به مناسبت تولد ۷۵ سالگی‌اش، چقدر احساساتی شد: \"به من تبریک گفت و برایم بهترین‌ها را آرزو کرد. اینجا خانه یورگن است و او هیچ وقت این را فراموش نمی‌کند.\"\n",
            "\n",
            "پس از ترک گلاتن، کلوپ برای باشگاه‌های آماتور مختلفی بازی کرد از جمله راتویز فرانکفورت. او هم زمان مشغول تحصیل در رشته علم ورزش در دانشگاه شهر شد.\n",
            "سال ۱۹۹۰ کلوپ ۲۳ ساله به باشگاه نیمه حرفه‌ای ماینتس ۰۵ که حدود ۵۰ کیلومتر از محل زندگی‌اش فاصله داشت و در دسته دوم بود، پیوست؛ تیمی که کاپیتانش میشائیل شوماخر نام داشت.\n",
            "او که حالا ۶۲ ساله است، می‌گوید: \"کلوپ مثل همه شاگرد مدرسه‌ای‌ها بود، چه از نظر ظاهری و چه از نظر شخصیتی. او همیشه شلوار جین و تی‌شرت می‌پوشید و پسری راحت و بدون استرس بود.\"\n",
            "زندگی داخل زمین فوتبال چندان برای کلوپ مطبوع نبود، او همیشه اعتراف می‌کند پاهایی از دسته دوم و ذهنی از دسته اول دارد. \n",
            "آقای شوماخر می‌گوید: \"پیش ما که آمد مهاجم بود. سریع بود و خوب ضربه سر می‌زد اما از نظر تکنیکی مشکل داشت.\"\n",
            "\"برایش سخت بود که هنگام اعلام اسمش تماشاگران هو می‌کردند و سوت می‌کشیدند. یادم هست که بعد از یک بازی کنار استخر ماساژ نشسته بودیم و او از من پرسید، چه کار می‌توانم بکنم؟ مربی همیشه می‌خواهد من را اذیت کند. او می‌دانست که بازیکن بزرگی نیست اما کاری که می‌گفت را انجام داد.\"\n",
            "ولفنگاگ فرانک بود که کلوپ ۱۹۱ سانتیمتری را به خط دفاع برد و موجب شد تا در ماینتس موفق شود؛ باشگاهی که کلوپ برایش ۳۲۵ بازی کرد. ولی دنیای مربی‌گری بود که قدرت واقعی این مرد را آشکار کرد.\n",
            "\n",
            "فوریه ۲۰۰۱، ماینتس در آستانه سقوط به دسته سوم فوتبال آلمان بود که هرالد اشتروتز، رئیس باشگاه متوجه شد وضعیت حسابی بحرانی است.\n",
            "آقای اشتروتز می‌گوید: \"شرایط به گونه‌ای بود که در مدتی کوتاه سه مربی عوض کردیم. ما یک بازی خیلی مهم داشتیم و با خودمان گفتیم اگر کسی نیست که به داد ما برسد کار را به خود بازیکنان محول می‌کنیم.\"\n",
            "\"یورگن کلوپ سرشار از انگیزه بود، یک مرد عادی با شخصیت خاص. در تمام بازی‌ها می‌توانستید ببینید که او یک رهبر است. می‌توانستید ببینید که تماشاگران تحت تاثیر شخصیت او هستند.\"\n",
            "\"تصمیم گرفتیم او را مربی تیم کنیم و این مانند انفجار احساسات مردم شهر بود؛ آغاز بزرگ‌ترین دوران باشگاه.\"\n",
            "تاثیر کلوپ بلافاصله مشخص شد. ماینتس در اولین مسابقه با هدایت کلوپ ۰-۱ دویسبورگ را شکست داد. او همچنین ۶ پیروزی در ۷ مسابقه بدست آورد تا تیم از منطقه سقوط خارج شود اما قسمت خوب داستان هنوز باقی مانده بود.\n",
            "تیم دو فصل پیاپی تا آخرین بازی فصل بخت صعود به دسته بالاتر را داشت و در آخرین لحظات نبرد را واگذار کرد.\n",
            "شاید کمتر کسی بداند اما بیش از هر چیزی شیوه کلوپ در به تکاپو انداختن بازیکنان و شهر بود که اشتروتز را تحت تاثیر قرار داد.\n",
            "در حالی که ۱۵۰۰۰ هوادارن مقابل تئاتری در میدان اصلی شهر ماینتس جمع شده بودند، کلوپ برایشان سخنرانی کرد.\n",
            "\n",
            "اشتروتز گفت: \"چشمان همه اشک‌آلود بود، ولی کلوپ روی صحنه رفت و گفت که قوی‌تر از قبل بازمی‌گردیم و دوباره تلاش می‌کنیم. همه مردم از دیدن چنین قدرتی غافلگیر شده بودند. او همیشه کلمات مناسب را پیدا می‌کند.\"\n",
            "فصل بعد هم اشک‌ها روان شد اما این بار از شادی، زمانی که باشگاه برای اولین بار توانست به بوندس‌لیگا صعود کند.\n",
            "اشتروتز می‌گوید: \"به خودم نوید یک غروب زیبا را داده بودم. یورگن به من گفت که همیشه یک تصویر از من در ذهنش باقی مانده؛ ساعت ۳ صبح ایستاده در یک میخانه در حال خندیدن، نوشیدن و خوش و بش کردن.\"\n",
            "ماینتس سه فصل در بوندس‌لیگا ماند، زمانی کافی تا کلوپ با جذابیت و ذهن تاکتیکی‌اش به یکی از قدرتمندترین مردان فوتبال آلمان تبدیل شود.\n",
            "هانس یوآخیم فاتسکه، مدیر اجرایی بورسیا دورتموند می‌گوید: \"وقتی مجبور بودید با ماینتس بازی کنید، از یک طرف بازیکنان آن‌ها خیلی خوب نبودند ولی از طرف دیگر شکست دادنشان بسیار سخت بود، برای این که بسیار با روحیه بودند.\"\n",
            "\"تاثیر اصلی کلوپ روی عامه مردم در جام جهانی ۲۰۰۶ بود که به عنوان کارشناس در تلویزیون حاضر شد. برای آلمانی‌ها میزان تسلط او بر مسائل تاکتیکی و همچنین جذابیت و قدرت سرگرم‌‌کنندگی‌اش تازه بود. فوق‌العاده بود.\"\n",
            "هوادارن ماینتس یک بار دیگر هم در میدان اصلی شهر حسابی اشک ریختند؛ زمانی که برای وداع با کلوپ دور هم جمع شده بودند. کلوپ سال ۲۰۰۸ به بورسیا دورتموند پیوست. باشگاهی که به \"دیوار زردش\" معروف بود و ۸۰ هزار تماشاگر پر شوری که ورزشگاه وستفالن را پر می‌کردند.\n",
            "در دورتموند کلوپ توانست فوتبال \"هوی متال\" را به عنوان \"برند\" خودش ثبت کند، زمانی که حرکات و فریاد‌های تماشاگران تا داخل زمین امتداد می‌یافت. کلوپ توانست دورتموندی که مشکلات زیادی داشت را به یکی از جذاب‌ترین تیم‌های اروپا بدل کند، تیمی که در سال ۲۰۱۱ قهرمان بوندس لیگا شد و سال بعد از آن دوگانه (قهرمانی لیگ و جام حذفی) را تصاحب کرد.\n",
            "فاتسکه می‌گوید: \"او به تیم روح تازه‌ای بخشید. شیوه‌ای متفاوت از فوتبالی که ما قبلا بازی می‌کردیم، داشت: تهاجمی با پِرِس قدرتمند و هماهنگی با کناره‌ها. تماشاگران و بازیکنان از همان اول عاشقش شدند. تمام شهر، تمام منطقه از کنترل خارج شده بودند.\"\n",
            "\n",
            "سال ۲۰۱۱ کلوپ تبدیل به یکی از معروف‌ترین مردان آلمان شد و بیش از این که به یک مربی فوتبال شباهت داشته باشد، شبیه یک ستاره پاپ بود.\n",
            "هرچند که اولی گراف، یکی از دوستان نزدیک کلوپ می‌گوید که او دوست ندارد ستاره پاپ باشد و مردی از جنس مردم است: \"پسری از بلک فارست که قهرمان شد.\"\n",
            "گراف می‌گوید: \"سفر کردن با او بزرگ‌ترین تفریحی است که می‌توانید داشته باشید. شما دائم می‌خندید و شوخی می‌کنید و می‌توانید از ورزش و سیاست حرف بزنید. مردی بسیار باهوش است و احتیاج نیست موقع صحبت با او نگرانی صحبتتان باشید.\"\n",
            "یک مربی فوتبال بزرگ، یک رقصنده قهار و یک رفیق سفر حسابی؛ ولی این فهرست تمام استعدادهای کلوپ نیست.\n",
            "اگر یکی از حامیان مالی دورتموند در مورد تمدید قرارداد، مردد می‌شد، احتمالا خود کلوپ دست به کار می‌شد و تلفن می‌زد.\n",
            "پشت صحنه یک روز تاریخی؛ چگونه یک انسان ماراتن را زیر دو ساعت دوید؟داستان زنی که وارد دنیای بی‌رحم ورزش شدمرگ رمزآلود قهرمان بوکس جهان؛ جنایت، هروئین یا سکته؟ جنگجویی خیابانی با چاقویی بین دندان‌هایش\n",
            "کارستن کارمر، فردی که طی ۷ سال حضور کلوپ در دورتموند مدیر بازاریابی باشگاه بود و حالا مدیرکل است، می‌گوید: \"یورگن کلوپ رویای یک آدم اهل بازاریابی است. مردی مانند او برای باشگاهی احساساتی مانند دورتموند ساخته شده است. او می‌تواند برای این باشگاه و اندیشه‌هایش چهره‌ای انسانی پیدا کند.\"\n",
            "\"او یک سلاح است. به تعدادی از اسپانسرهای باشگاه شخصا تلفن می‌زد و بعد تمام آن‌ها قرادادشان با باشگاه را تمدید کردند.\"\n",
            "پنج سال بعد از یک جدایی اندوهبار دیگر، کارمر و واتسکه هنوز دوستان نزدیک کلوپ باقی مانده‌اند و در هر دو باری که لیورپول همراه با سرمربی آلمانی به فینال لیگ قهرمانان اروپا رسید (در مادرید و کیف) مهمان کلوپ بودند.\n",
            "کارمر می‌گوید: \"اگر شما با آدمی مثل کلوپ ۷ سال همکاری کنید، دروغ است که بگویید دلتان برایش تنگ نمی‌شود. او یک انسان خارق‌العاده است. اما دیدن این که چگونه امید و قدرت را نه فقط به باشگاه لیورپول بلکه به کل شهر داده است، باعث می‌شود که به او افتخار کنید.\"\n",
            "\n",
            "برای پخش این فایل لطفا جاوا اسکریپت را فعال یا از یک مرورگر دیگر استفاده کنید.\n",
            "گفتگو با شیدا بازیار؛ انقلاب و ۴۰ سال بعد از آن در رمان 'شب‌ها تهران آرام است'\n",
            "\n",
            "شیدا بازیار نویسنده آلمانی است که کتاب او به نام 'شب‌ها تهران آرام است' به تازگی توسط کبری هدایتی‌نسب به فارسی ترجمه و توسط نشر فروغ در آلمان منتشر شده است.‌ شیدا بازیار که در آلمان به دنیا آمده و بزرگ شده است، پدر و مادر ایرانی دارد. او که  نویسندگی را از دوران کودکی به زبان آلمانی آغازکرده، با دریافت بورسیه بنیاد هاینریش بل در دانشگاه در رشته نویسندگی خلاق تحصیل کرده است. خانم بازیار برای این رمان که به زبان آلمانی نوشته شده است، چندین جایزه ادبی دریافت کرد از جمله  جایزه 'اولا هان'. اولا هان، یکی ازجوایز معتبر ادبی‌ است که در آلمان هر دو سال به یک نویسنده جوان داده می‌شود. ‌داوران این جایزه رمان شیدا بازیار را بازتاب دهنده شرایط جامعه امروز آلمان در رابطه با زندگی پناهجویان دانستند که در حین حال یکاثر ادبی عالی است. \n",
            "گفتگوی روجا اسدی با شیدا بازیار\n",
            "\n"
          ]
        }
      ],
      "source": [
        "with open(filename, 'r', encoding='utf-8') as f:\n",
        "    data = json.load(f)\n",
        "\n",
        "# extract Titles and Bodies\n",
        "titles = [item['title'] for item in data]\n",
        "bodies = [item['body'] for item in data]\n",
        "\n",
        "\n",
        "# example of body\n",
        "for body in bodies[:5]:\n",
        "    print(body)"
      ]
    },
    {
      "cell_type": "markdown",
      "metadata": {
        "id": "8kQ-tu4wz2r7"
      },
      "source": [
        "## Define normalization, tokenization, stemming, lemmatization and stop words"
      ]
    },
    {
      "cell_type": "code",
      "execution_count": 5,
      "metadata": {
        "id": "V7kaLw7nkgwP"
      },
      "outputs": [],
      "source": [
        "normalizer = Normalizer()\n",
        "tokenizer = WordTokenizer()\n",
        "stemmer = Stemmer()\n",
        "lemmatizer = Lemmatizer()\n",
        "stop_words = set(stopwords_list())"
      ]
    },
    {
      "cell_type": "markdown",
      "metadata": {
        "id": "uZp7VxRO0DYg"
      },
      "source": [
        "## Preprocessing function\n",
        "normalization, tokenization, stemming, and lemmatization"
      ]
    },
    {
      "cell_type": "code",
      "execution_count": 6,
      "metadata": {
        "id": "Bwe_E6YKkwOl"
      },
      "outputs": [],
      "source": [
        "def preprocess(text):\n",
        "    text = normalizer.normalize(text)\n",
        "    tokens = tokenizer.tokenize(text)\n",
        "    tokens = [t for t in tokens if t not in stop_words]\n",
        "    tokens = [lemmatizer.lemmatize(stemmer.stem(t)) for t in tokens]\n",
        "    return \" \".join(tokens)"
      ]
    },
    {
      "cell_type": "markdown",
      "metadata": {
        "id": "_oT6kYyV0h_Y"
      },
      "source": [
        "## Preprocess, TF-vectorization and FAISS indexing for FAST Similarity search"
      ]
    },
    {
      "cell_type": "code",
      "execution_count": 7,
      "metadata": {
        "colab": {
          "base_uri": "https://localhost:8080/"
        },
        "id": "_q-8gcpXkyHQ",
        "outputId": "4dab7ce6-21f8-4be8-8d82-c60b15e28277"
      },
      "outputs": [
        {
          "name": "stderr",
          "output_type": "stream",
          "text": [
            "100%|██████████| 3780/3780 [00:40<00:00, 93.71it/s] \n"
          ]
        }
      ],
      "source": [
        "documents = [preprocess(text) for text in tqdm(bodies)]\n",
        "\n",
        "# TF-IDF vectorization\n",
        "vectorizer = TfidfVectorizer()\n",
        "tfidf_matrix = vectorizer.fit_transform(documents)\n",
        "# FAISS Indexing for Fast Search\n",
        "faiss_index = faiss.IndexFlatIP(tfidf_matrix.shape[1])\n",
        "faiss_index.add(tfidf_matrix.toarray())"
      ]
    },
    {
      "cell_type": "markdown",
      "metadata": {
        "id": "YzWHxwzo15gz"
      },
      "source": [
        "## Normal search"
      ]
    },
    {
      "cell_type": "code",
      "execution_count": 37,
      "metadata": {
        "id": "9qf0RbkT121H"
      },
      "outputs": [],
      "source": [
        "def normal_search(query, top_k=5):\n",
        "    query_vector = vectorizer.transform([preprocess(query)])\n",
        "    similarities = cosine_similarity(query_vector, tfidf_matrix).flatten()\n",
        "    top_indices = similarities.argsort()[-top_k:][::-1]\n",
        "    return [(titles[i], bodies[i], similarities[i]) for i in top_indices]"
      ]
    },
    {
      "cell_type": "markdown",
      "metadata": {
        "id": "z2CLHacW0oR_"
      },
      "source": [
        "## Fast search function: uses vectorization & indexing"
      ]
    },
    {
      "cell_type": "code",
      "execution_count": 38,
      "metadata": {
        "id": "3ubSDYL-lFOT"
      },
      "outputs": [],
      "source": [
        "def fast_search(query, top_k=5):\n",
        "    # vectorize the query after preprocessing\n",
        "    query_vector = vectorizer.transform([preprocess(query)]).toarray()\n",
        "    # search the FAISS index\n",
        "    scores, indices = faiss_index.search(query_vector, top_k)\n",
        "    return [(titles[i], bodies[i], scores[0][j]) for j, i in enumerate(indices[0])]"
      ]
    },
    {
      "cell_type": "markdown",
      "metadata": {
        "id": "Qe4Z8-75035r"
      },
      "source": [
        "## An example for IR"
      ]
    },
    {
      "cell_type": "code",
      "execution_count": 9,
      "metadata": {
        "colab": {
          "base_uri": "https://localhost:8080/"
        },
        "id": "i3dkZ6Azlc2x",
        "outputId": "55389687-2ca3-4be7-b287-71afce7c8521"
      },
      "outputs": [
        {
          "name": "stdout",
          "output_type": "stream",
          "text": [
            "Title: تغییر دولت‌ها در ایران و سرگردانی و تعلیق برای فعالان اقتصادی\n",
            "Score: 0.5072\n",
            "Body: \n",
            "\n",
            "\n",
            "مقاطع زمانی تغییر دولت‌ها در ایران برای فعالان اقتصادی‌ به معنای سرگردانی و تعلیق است، اینکه باید مدتی را دست نگاه دارند تا ببینند دولت جدید قرار است چه بر سر اقتصاد ایران بیاورد و میانه‌ دولتمردان...\n",
            "==================================================\n",
            "\n",
            "Title: تناقض آمارها درباره رشد اقتصادی ایران؛ روحانی رشد اقتصادی سال پیش بدون نفت را 'مثبت' اعلام کرد\n",
            "Score: 0.5045\n",
            "Body: \n",
            "\n",
            "\n",
            "در حالیکه رئیس بانک مرکزی و مرکز آمار ایران اخیرا داده‌های متناقضی درباره رشد اقتصادی ایران در سال گذشته ( ۹۸ ) منتشر کرده‌اند، حسن روحانی رئیس‌جمهوری ایران، آمارهای ارائه شده  توسط بانک مرکزی را ت...\n",
            "==================================================\n",
            "\n",
            "Title: پیش‌بینی بانک جهانی درباره رکود در دنیا؛ در سال ۲۰۲۰ 'اقتصاد ایران ۵/۳ درصد کوچکتر می‌شود'\n",
            "Score: 0.4840\n",
            "Body: \n",
            "\n",
            "\n",
            "بانک جهانی در گزارشی که درباره چشم‌انداز اقتصاد جهان در سال جاری میلادی (۲۰۲۰) منتشر کرده به تفصیل به تاثیر منفی شیوع کووید-۱۹ بر اقتصاد جهان و کشورهای مختلف پرداخته است.\n",
            "در این گزارش به سرعت \"هشدا...\n",
            "==================================================\n",
            "\n",
            "Title: پایان قرن؛ اقتصاد ایران در صد سالی که گذشت\n",
            "Score: 0.4821\n",
            "Body: \n",
            "آرش حسن‌نیاروزنامه‌نگار\n",
            "\n",
            "\n",
            "یکصد سال آنقدر سال و ماه و هفته و روز در خود جای داده است که حتی برای کشورهایی آرام و به ساحل توسعه رسیده پر از دگرگونی و فراز و فرود باشد چه رسد به کشوری همچون ایران که در ...\n",
            "==================================================\n",
            "\n",
            "Title: چرا در اقتصاد ایران فسادهای کلان شکل می‌گیرد؟\n",
            "Score: 0.4737\n",
            "Body: برای پخش این فایل لطفا جاوا اسکریپت را فعال یا از یک مرورگر دیگر استفاده کنید.\n",
            "چرا در اقتصاد ایران فسادهای کلان شکل می‌گیرد؟\n",
            "\n",
            "شمار بالای پرونده‌های فساد اقتصادی در ایران و ارتباط آن با مقام‌های حکومتی...\n",
            "==================================================\n",
            "\n"
          ]
        }
      ],
      "source": [
        "results = fast_search(\"اقتصاد ایران\", top_k=5)\n",
        "\n",
        "for title, body, score in results:\n",
        "    print(f\"Title: {title}\\nScore: {score:.4f}\\nBody: {body[:200]}...\\n{'='*50}\\n\")\n"
      ]
    },
    {
      "cell_type": "markdown",
      "metadata": {
        "id": "96deQo_m6En2"
      },
      "source": [
        "## Another example for IR"
      ]
    },
    {
      "cell_type": "code",
      "execution_count": 10,
      "metadata": {
        "colab": {
          "base_uri": "https://localhost:8080/"
        },
        "id": "E-Qe-OibnMl4",
        "outputId": "bac9b803-1f39-4819-beec-b898e3d684e6"
      },
      "outputs": [
        {
          "name": "stdout",
          "output_type": "stream",
          "text": [
            "Title: رئیس بانک مرکزی ایران در عراق در طلب بدهی‌های انباشتی میلیارد دلاری\n",
            "Score: 0.3813\n",
            "Body: برای پخش این فایل لطفا جاوا اسکریپت را فعال یا از یک مرورگر دیگر استفاده کنید.\n",
            "رئیس بانک مرکزی ایران در عراق در طلب بدهی‌های انباشتی میلیارد دلاری\n",
            "\n",
            "بانک مرکزی ایران اعلام کرده که از امروز برای جلوگیری...\n",
            "==================================================\n",
            "\n",
            "Title: رکوردهای تازه قیمت دلار در ایران؛ انگشت اتهام مجلس به سوی دولت\n",
            "Score: 0.3350\n",
            "Body: برای پخش این فایل لطفا جاوا اسکریپت را فعال یا از یک مرورگر دیگر استفاده کنید.\n",
            "رکوردهای تازه قیمت دلار در ایران؛ انگشت اتهام مجلس به سوی دولت\n",
            "\n",
            "قیمت دلار در بازار ایران به رقم بی‌سابقه ۲۲ هزار تومان رس...\n",
            "==================================================\n",
            "\n",
            "Title: آیا دلار به '۱۵ هزار تومان' برمی‌گردد؟\n",
            "Score: 0.3153\n",
            "Body: \n",
            "هادی چاوشیروزنامه‌نگار\n",
            "\n",
            "\n",
            "سخنان رئیس‌جمهور ایران درباره احتمال رسیدن قیمت دلار به ۱۵ هزار تومان، همزمان با کاهش قیمت ارزهای معتبر در بازار تهران طی روزهای اخیر، این سوال را برای بسیاری از شهروندان پیش...\n",
            "==================================================\n",
            "\n",
            "Title: بیت‌کوین قیمت بالای '۵۰ هزار دلار' را هم تجربه کرد\n",
            "Score: 0.2887\n",
            "Body: \n",
            "\n",
            "\n",
            "براساس گزارش رویترز قیمت بیت‌کوین در معاملات امروز سه‌شنبه (۲۸ بهمن/ ۱۶ فوریه) برای اولین بار مرز ۵۰ هزار دلاری را ر رد کرد و رکورد جدیدی بر جای گذاشت.\n",
            "این رمزارز که چند روزی به نرخ کمی کمتر از ۵۰ ...\n",
            "==================================================\n",
            "\n",
            "Title: انتخابات آمریکا؛ ترامپ با دلار در ایران چه کرد؟\n",
            "Score: 0.2673\n",
            "Body: \n",
            "آرش حسن‌نیاروزنامه‌نگار\n",
            "\n",
            "\n",
            "رکورد تاریخی قیمت دلار در بازار ایران درست چند روزی پس از پنج شنبه ۱۹ مهرماه ۹۹ رقم خورد؛ در تحلیل‌های منتشرشده روزهای قبل و بعد از آن پنج‌شنبه از دلایل متعددی برای این قله ...\n",
            "==================================================\n",
            "\n"
          ]
        }
      ],
      "source": [
        "results = fast_search(\"دلار\", top_k=5)\n",
        "\n",
        "for title, body, score in results:\n",
        "    print(f\"Title: {title}\\nScore: {score:.4f}\\nBody: {body[:200]}...\\n{'='*50}\\n\")"
      ]
    },
    {
      "cell_type": "markdown",
      "metadata": {
        "id": "u9xHZYUM5-Xi"
      },
      "source": [
        "## Comparing query time"
      ]
    },
    {
      "cell_type": "code",
      "execution_count": 45,
      "metadata": {
        "colab": {
          "base_uri": "https://localhost:8080/"
        },
        "id": "NABwq0ZL2IfT",
        "outputId": "10db1b1e-b7ea-4a37-cb71-93d41cb8cd59"
      },
      "outputs": [
        {
          "name": "stdout",
          "output_type": "stream",
          "text": [
            "fast_search duration: 0.0657 seconds\n",
            "normal_search duration: 0.0223 seconds\n"
          ]
        }
      ],
      "source": [
        "query = \"اقتصاد ایران\"\n",
        "\n",
        "start = time.time()\n",
        "_ = fast_search(query, top_k=5)\n",
        "print(f\"fast_search duration: {time.time() - start:.4f} seconds\")\n",
        "\n",
        "start = time.time()\n",
        "_ = normal_search(query, top_k=5)\n",
        "print(f\"normal_search duration: {time.time() - start:.4f} seconds\")"
      ]
    }
  ],
  "metadata": {
    "colab": {
      "provenance": [],
      "toc_visible": true
    },
    "kernelspec": {
      "display_name": "Python 3",
      "name": "python3"
    },
    "language_info": {
      "name": "python"
    }
  },
  "nbformat": 4,
  "nbformat_minor": 0
}
