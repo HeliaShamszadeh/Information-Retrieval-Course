{
  "cells": [
    {
      "cell_type": "code",
      "execution_count": null,
      "metadata": {
        "colab": {
          "base_uri": "https://localhost:8080/",
          "height": 1000
        },
        "id": "3pXrMPNG-afr",
        "outputId": "394ee872-7ac8-4bb4-93dd-86a10ecf011b"
      },
      "outputs": [
        {
          "name": "stdout",
          "output_type": "stream",
          "text": [
            "Collecting hazm\n",
            "  Downloading hazm-0.10.0-py3-none-any.whl.metadata (11 kB)\n",
            "Collecting faiss-cpu\n",
            "  Downloading faiss_cpu-1.10.0-cp311-cp311-manylinux_2_28_x86_64.whl.metadata (4.4 kB)\n",
            "Requirement already satisfied: tqdm in /usr/local/lib/python3.11/dist-packages (4.67.1)\n",
            "Collecting fasttext-wheel<0.10.0,>=0.9.2 (from hazm)\n",
            "  Downloading fasttext_wheel-0.9.2-cp311-cp311-manylinux_2_17_x86_64.manylinux2014_x86_64.whl.metadata (16 kB)\n",
            "Collecting flashtext<3.0,>=2.7 (from hazm)\n",
            "  Downloading flashtext-2.7.tar.gz (14 kB)\n",
            "  Preparing metadata (setup.py) ... \u001b[?25l\u001b[?25hdone\n",
            "Collecting gensim<5.0.0,>=4.3.1 (from hazm)\n",
            "  Downloading gensim-4.3.3-cp311-cp311-manylinux_2_17_x86_64.manylinux2014_x86_64.whl.metadata (8.1 kB)\n",
            "Requirement already satisfied: nltk<4.0.0,>=3.8.1 in /usr/local/lib/python3.11/dist-packages (from hazm) (3.9.1)\n",
            "Collecting numpy==1.24.3 (from hazm)\n",
            "  Downloading numpy-1.24.3-cp311-cp311-manylinux_2_17_x86_64.manylinux2014_x86_64.whl.metadata (5.6 kB)\n",
            "Collecting python-crfsuite<0.10.0,>=0.9.9 (from hazm)\n",
            "  Downloading python_crfsuite-0.9.11-cp311-cp311-manylinux_2_17_x86_64.manylinux2014_x86_64.whl.metadata (4.3 kB)\n",
            "Requirement already satisfied: scikit-learn<2.0.0,>=1.2.2 in /usr/local/lib/python3.11/dist-packages (from hazm) (1.6.1)\n",
            "INFO: pip is looking at multiple versions of faiss-cpu to determine which version is compatible with other requirements. This could take a while.\n",
            "Collecting faiss-cpu\n",
            "  Downloading faiss_cpu-1.9.0.post1-cp311-cp311-manylinux_2_17_x86_64.manylinux2014_x86_64.whl.metadata (4.4 kB)\n",
            "  Downloading faiss_cpu-1.9.0-cp311-cp311-manylinux_2_17_x86_64.manylinux2014_x86_64.whl.metadata (4.4 kB)\n",
            "  Downloading faiss_cpu-1.8.0.post1-cp311-cp311-manylinux_2_17_x86_64.manylinux2014_x86_64.whl.metadata (3.7 kB)\n",
            "Requirement already satisfied: packaging in /usr/local/lib/python3.11/dist-packages (from faiss-cpu) (24.2)\n",
            "Collecting pybind11>=2.2 (from fasttext-wheel<0.10.0,>=0.9.2->hazm)\n",
            "  Downloading pybind11-2.13.6-py3-none-any.whl.metadata (9.5 kB)\n",
            "Requirement already satisfied: setuptools>=0.7.0 in /usr/local/lib/python3.11/dist-packages (from fasttext-wheel<0.10.0,>=0.9.2->hazm) (75.2.0)\n",
            "Collecting scipy<1.14.0,>=1.7.0 (from gensim<5.0.0,>=4.3.1->hazm)\n",
            "  Downloading scipy-1.13.1-cp311-cp311-manylinux_2_17_x86_64.manylinux2014_x86_64.whl.metadata (60 kB)\n",
            "\u001b[2K     \u001b[90m━━━━━━━━━━━━━━━━━━━━━━━━━━━━━━━━━━━━━━━━\u001b[0m \u001b[32m60.6/60.6 kB\u001b[0m \u001b[31m2.0 MB/s\u001b[0m eta \u001b[36m0:00:00\u001b[0m\n",
            "\u001b[?25hRequirement already satisfied: smart-open>=1.8.1 in /usr/local/lib/python3.11/dist-packages (from gensim<5.0.0,>=4.3.1->hazm) (7.1.0)\n",
            "Requirement already satisfied: click in /usr/local/lib/python3.11/dist-packages (from nltk<4.0.0,>=3.8.1->hazm) (8.1.8)\n",
            "Requirement already satisfied: joblib in /usr/local/lib/python3.11/dist-packages (from nltk<4.0.0,>=3.8.1->hazm) (1.4.2)\n",
            "Requirement already satisfied: regex>=2021.8.3 in /usr/local/lib/python3.11/dist-packages (from nltk<4.0.0,>=3.8.1->hazm) (2024.11.6)\n",
            "Requirement already satisfied: threadpoolctl>=3.1.0 in /usr/local/lib/python3.11/dist-packages (from scikit-learn<2.0.0,>=1.2.2->hazm) (3.6.0)\n",
            "Requirement already satisfied: wrapt in /usr/local/lib/python3.11/dist-packages (from smart-open>=1.8.1->gensim<5.0.0,>=4.3.1->hazm) (1.17.2)\n",
            "Downloading hazm-0.10.0-py3-none-any.whl (892 kB)\n",
            "\u001b[2K   \u001b[90m━━━━━━━━━━━━━━━━━━━━━━━━━━━━━━━━━━━━━━━━\u001b[0m \u001b[32m892.6/892.6 kB\u001b[0m \u001b[31m16.4 MB/s\u001b[0m eta \u001b[36m0:00:00\u001b[0m\n",
            "\u001b[?25hDownloading numpy-1.24.3-cp311-cp311-manylinux_2_17_x86_64.manylinux2014_x86_64.whl (17.3 MB)\n",
            "\u001b[2K   \u001b[90m━━━━━━━━━━━━━━━━━━━━━━━━━━━━━━━━━━━━━━━━\u001b[0m \u001b[32m17.3/17.3 MB\u001b[0m \u001b[31m77.6 MB/s\u001b[0m eta \u001b[36m0:00:00\u001b[0m\n",
            "\u001b[?25hDownloading faiss_cpu-1.8.0.post1-cp311-cp311-manylinux_2_17_x86_64.manylinux2014_x86_64.whl (27.0 MB)\n",
            "\u001b[2K   \u001b[90m━━━━━━━━━━━━━━━━━━━━━━━━━━━━━━━━━━━━━━━━\u001b[0m \u001b[32m27.0/27.0 MB\u001b[0m \u001b[31m62.5 MB/s\u001b[0m eta \u001b[36m0:00:00\u001b[0m\n",
            "\u001b[?25hDownloading fasttext_wheel-0.9.2-cp311-cp311-manylinux_2_17_x86_64.manylinux2014_x86_64.whl (4.4 MB)\n",
            "\u001b[2K   \u001b[90m━━━━━━━━━━━━━━━━━━━━━━━━━━━━━━━━━━━━━━━━\u001b[0m \u001b[32m4.4/4.4 MB\u001b[0m \u001b[31m70.4 MB/s\u001b[0m eta \u001b[36m0:00:00\u001b[0m\n",
            "\u001b[?25hDownloading gensim-4.3.3-cp311-cp311-manylinux_2_17_x86_64.manylinux2014_x86_64.whl (26.7 MB)\n",
            "\u001b[2K   \u001b[90m━━━━━━━━━━━━━━━━━━━━━━━━━━━━━━━━━━━━━━━━\u001b[0m \u001b[32m26.7/26.7 MB\u001b[0m \u001b[31m19.0 MB/s\u001b[0m eta \u001b[36m0:00:00\u001b[0m\n",
            "\u001b[?25hDownloading python_crfsuite-0.9.11-cp311-cp311-manylinux_2_17_x86_64.manylinux2014_x86_64.whl (1.3 MB)\n",
            "\u001b[2K   \u001b[90m━━━━━━━━━━━━━━━━━━━━━━━━━━━━━━━━━━━━━━━━\u001b[0m \u001b[32m1.3/1.3 MB\u001b[0m \u001b[31m7.0 MB/s\u001b[0m eta \u001b[36m0:00:00\u001b[0m\n",
            "\u001b[?25hDownloading pybind11-2.13.6-py3-none-any.whl (243 kB)\n",
            "\u001b[2K   \u001b[90m━━━━━━━━━━━━━━━━━━━━━━━━━━━━━━━━━━━━━━━━\u001b[0m \u001b[32m243.3/243.3 kB\u001b[0m \u001b[31m17.4 MB/s\u001b[0m eta \u001b[36m0:00:00\u001b[0m\n",
            "\u001b[?25hDownloading scipy-1.13.1-cp311-cp311-manylinux_2_17_x86_64.manylinux2014_x86_64.whl (38.6 MB)\n",
            "\u001b[2K   \u001b[90m━━━━━━━━━━━━━━━━━━━━━━━━━━━━━━━━━━━━━━━━\u001b[0m \u001b[32m38.6/38.6 MB\u001b[0m \u001b[31m13.2 MB/s\u001b[0m eta \u001b[36m0:00:00\u001b[0m\n",
            "\u001b[?25hBuilding wheels for collected packages: flashtext\n",
            "  Building wheel for flashtext (setup.py) ... \u001b[?25l\u001b[?25hdone\n",
            "  Created wheel for flashtext: filename=flashtext-2.7-py2.py3-none-any.whl size=9300 sha256=eb9d785a8596ccf5edfca9cd1c207283c076f9076cb599789912923482702195\n",
            "  Stored in directory: /root/.cache/pip/wheels/49/20/47/f03dfa8a7239c54cbc44ff7389eefbf888d2c1873edaaec888\n",
            "Successfully built flashtext\n",
            "Installing collected packages: flashtext, python-crfsuite, pybind11, numpy, scipy, fasttext-wheel, faiss-cpu, gensim, hazm\n",
            "  Attempting uninstall: numpy\n",
            "    Found existing installation: numpy 2.0.2\n",
            "    Uninstalling numpy-2.0.2:\n",
            "      Successfully uninstalled numpy-2.0.2\n",
            "  Attempting uninstall: scipy\n",
            "    Found existing installation: scipy 1.14.1\n",
            "    Uninstalling scipy-1.14.1:\n",
            "      Successfully uninstalled scipy-1.14.1\n",
            "\u001b[31mERROR: pip's dependency resolver does not currently take into account all the packages that are installed. This behaviour is the source of the following dependency conflicts.\n",
            "albumentations 2.0.5 requires numpy>=1.24.4, but you have numpy 1.24.3 which is incompatible.\n",
            "pymc 5.21.2 requires numpy>=1.25.0, but you have numpy 1.24.3 which is incompatible.\n",
            "tensorflow 2.18.0 requires numpy<2.1.0,>=1.26.0, but you have numpy 1.24.3 which is incompatible.\n",
            "treescope 0.1.9 requires numpy>=1.25.2, but you have numpy 1.24.3 which is incompatible.\n",
            "albucore 0.0.23 requires numpy>=1.24.4, but you have numpy 1.24.3 which is incompatible.\n",
            "jax 0.5.2 requires numpy>=1.25, but you have numpy 1.24.3 which is incompatible.\n",
            "blosc2 3.3.0 requires numpy>=1.26, but you have numpy 1.24.3 which is incompatible.\n",
            "thinc 8.3.6 requires numpy<3.0.0,>=2.0.0, but you have numpy 1.24.3 which is incompatible.\n",
            "jaxlib 0.5.1 requires numpy>=1.25, but you have numpy 1.24.3 which is incompatible.\u001b[0m\u001b[31m\n",
            "\u001b[0mSuccessfully installed faiss-cpu-1.8.0.post1 fasttext-wheel-0.9.2 flashtext-2.7 gensim-4.3.3 hazm-0.10.0 numpy-1.24.3 pybind11-2.13.6 python-crfsuite-0.9.11 scipy-1.13.1\n"
          ]
        },
        {
          "data": {
            "application/vnd.colab-display-data+json": {
              "id": "e9f6fbd313f24f4da509d50c0b36b0d5",
              "pip_warning": {
                "packages": [
                  "numpy"
                ]
              }
            }
          },
          "metadata": {},
          "output_type": "display_data"
        }
      ],
      "source": [
        "!pip install hazm faiss-cpu tqdm"
      ]
    },
    {
      "cell_type": "markdown",
      "metadata": {
        "id": "yMYEgAOt-WyW"
      },
      "source": [
        "## Import libraries"
      ]
    },
    {
      "cell_type": "code",
      "execution_count": null,
      "metadata": {
        "id": "3aXKZI0X-DFa"
      },
      "outputs": [],
      "source": [
        "import faiss\n",
        "import numpy as np\n",
        "import pickle\n",
        "import os\n",
        "from sklearn.feature_extraction.text import TfidfVectorizer\n",
        "from sklearn.preprocessing import normalize\n",
        "from google.colab import files\n",
        "import json\n",
        "from hazm import Normalizer, WordTokenizer, Stemmer, Lemmatizer, stopwords_list\n",
        "from tqdm import tqdm"
      ]
    },
    {
      "cell_type": "markdown",
      "metadata": {
        "id": "Cq3E7peXAENW"
      },
      "source": [
        "## Upload dataset"
      ]
    },
    {
      "cell_type": "code",
      "execution_count": null,
      "metadata": {
        "colab": {
          "base_uri": "https://localhost:8080/",
          "height": 74
        },
        "id": "fzt8TYG_-sNW",
        "outputId": "734873f0-2e69-49d8-d6a5-72aecdf29865"
      },
      "outputs": [
        {
          "data": {
            "text/html": [
              "\n",
              "     <input type=\"file\" id=\"files-bff7a069-6ff6-48d8-ba0a-976ca2ae06f6\" name=\"files[]\" multiple disabled\n",
              "        style=\"border:none\" />\n",
              "     <output id=\"result-bff7a069-6ff6-48d8-ba0a-976ca2ae06f6\">\n",
              "      Upload widget is only available when the cell has been executed in the\n",
              "      current browser session. Please rerun this cell to enable.\n",
              "      </output>\n",
              "      <script>// Copyright 2017 Google LLC\n",
              "//\n",
              "// Licensed under the Apache License, Version 2.0 (the \"License\");\n",
              "// you may not use this file except in compliance with the License.\n",
              "// You may obtain a copy of the License at\n",
              "//\n",
              "//      http://www.apache.org/licenses/LICENSE-2.0\n",
              "//\n",
              "// Unless required by applicable law or agreed to in writing, software\n",
              "// distributed under the License is distributed on an \"AS IS\" BASIS,\n",
              "// WITHOUT WARRANTIES OR CONDITIONS OF ANY KIND, either express or implied.\n",
              "// See the License for the specific language governing permissions and\n",
              "// limitations under the License.\n",
              "\n",
              "/**\n",
              " * @fileoverview Helpers for google.colab Python module.\n",
              " */\n",
              "(function(scope) {\n",
              "function span(text, styleAttributes = {}) {\n",
              "  const element = document.createElement('span');\n",
              "  element.textContent = text;\n",
              "  for (const key of Object.keys(styleAttributes)) {\n",
              "    element.style[key] = styleAttributes[key];\n",
              "  }\n",
              "  return element;\n",
              "}\n",
              "\n",
              "// Max number of bytes which will be uploaded at a time.\n",
              "const MAX_PAYLOAD_SIZE = 100 * 1024;\n",
              "\n",
              "function _uploadFiles(inputId, outputId) {\n",
              "  const steps = uploadFilesStep(inputId, outputId);\n",
              "  const outputElement = document.getElementById(outputId);\n",
              "  // Cache steps on the outputElement to make it available for the next call\n",
              "  // to uploadFilesContinue from Python.\n",
              "  outputElement.steps = steps;\n",
              "\n",
              "  return _uploadFilesContinue(outputId);\n",
              "}\n",
              "\n",
              "// This is roughly an async generator (not supported in the browser yet),\n",
              "// where there are multiple asynchronous steps and the Python side is going\n",
              "// to poll for completion of each step.\n",
              "// This uses a Promise to block the python side on completion of each step,\n",
              "// then passes the result of the previous step as the input to the next step.\n",
              "function _uploadFilesContinue(outputId) {\n",
              "  const outputElement = document.getElementById(outputId);\n",
              "  const steps = outputElement.steps;\n",
              "\n",
              "  const next = steps.next(outputElement.lastPromiseValue);\n",
              "  return Promise.resolve(next.value.promise).then((value) => {\n",
              "    // Cache the last promise value to make it available to the next\n",
              "    // step of the generator.\n",
              "    outputElement.lastPromiseValue = value;\n",
              "    return next.value.response;\n",
              "  });\n",
              "}\n",
              "\n",
              "/**\n",
              " * Generator function which is called between each async step of the upload\n",
              " * process.\n",
              " * @param {string} inputId Element ID of the input file picker element.\n",
              " * @param {string} outputId Element ID of the output display.\n",
              " * @return {!Iterable<!Object>} Iterable of next steps.\n",
              " */\n",
              "function* uploadFilesStep(inputId, outputId) {\n",
              "  const inputElement = document.getElementById(inputId);\n",
              "  inputElement.disabled = false;\n",
              "\n",
              "  const outputElement = document.getElementById(outputId);\n",
              "  outputElement.innerHTML = '';\n",
              "\n",
              "  const pickedPromise = new Promise((resolve) => {\n",
              "    inputElement.addEventListener('change', (e) => {\n",
              "      resolve(e.target.files);\n",
              "    });\n",
              "  });\n",
              "\n",
              "  const cancel = document.createElement('button');\n",
              "  inputElement.parentElement.appendChild(cancel);\n",
              "  cancel.textContent = 'Cancel upload';\n",
              "  const cancelPromise = new Promise((resolve) => {\n",
              "    cancel.onclick = () => {\n",
              "      resolve(null);\n",
              "    };\n",
              "  });\n",
              "\n",
              "  // Wait for the user to pick the files.\n",
              "  const files = yield {\n",
              "    promise: Promise.race([pickedPromise, cancelPromise]),\n",
              "    response: {\n",
              "      action: 'starting',\n",
              "    }\n",
              "  };\n",
              "\n",
              "  cancel.remove();\n",
              "\n",
              "  // Disable the input element since further picks are not allowed.\n",
              "  inputElement.disabled = true;\n",
              "\n",
              "  if (!files) {\n",
              "    return {\n",
              "      response: {\n",
              "        action: 'complete',\n",
              "      }\n",
              "    };\n",
              "  }\n",
              "\n",
              "  for (const file of files) {\n",
              "    const li = document.createElement('li');\n",
              "    li.append(span(file.name, {fontWeight: 'bold'}));\n",
              "    li.append(span(\n",
              "        `(${file.type || 'n/a'}) - ${file.size} bytes, ` +\n",
              "        `last modified: ${\n",
              "            file.lastModifiedDate ? file.lastModifiedDate.toLocaleDateString() :\n",
              "                                    'n/a'} - `));\n",
              "    const percent = span('0% done');\n",
              "    li.appendChild(percent);\n",
              "\n",
              "    outputElement.appendChild(li);\n",
              "\n",
              "    const fileDataPromise = new Promise((resolve) => {\n",
              "      const reader = new FileReader();\n",
              "      reader.onload = (e) => {\n",
              "        resolve(e.target.result);\n",
              "      };\n",
              "      reader.readAsArrayBuffer(file);\n",
              "    });\n",
              "    // Wait for the data to be ready.\n",
              "    let fileData = yield {\n",
              "      promise: fileDataPromise,\n",
              "      response: {\n",
              "        action: 'continue',\n",
              "      }\n",
              "    };\n",
              "\n",
              "    // Use a chunked sending to avoid message size limits. See b/62115660.\n",
              "    let position = 0;\n",
              "    do {\n",
              "      const length = Math.min(fileData.byteLength - position, MAX_PAYLOAD_SIZE);\n",
              "      const chunk = new Uint8Array(fileData, position, length);\n",
              "      position += length;\n",
              "\n",
              "      const base64 = btoa(String.fromCharCode.apply(null, chunk));\n",
              "      yield {\n",
              "        response: {\n",
              "          action: 'append',\n",
              "          file: file.name,\n",
              "          data: base64,\n",
              "        },\n",
              "      };\n",
              "\n",
              "      let percentDone = fileData.byteLength === 0 ?\n",
              "          100 :\n",
              "          Math.round((position / fileData.byteLength) * 100);\n",
              "      percent.textContent = `${percentDone}% done`;\n",
              "\n",
              "    } while (position < fileData.byteLength);\n",
              "  }\n",
              "\n",
              "  // All done.\n",
              "  yield {\n",
              "    response: {\n",
              "      action: 'complete',\n",
              "    }\n",
              "  };\n",
              "}\n",
              "\n",
              "scope.google = scope.google || {};\n",
              "scope.google.colab = scope.google.colab || {};\n",
              "scope.google.colab._files = {\n",
              "  _uploadFiles,\n",
              "  _uploadFilesContinue,\n",
              "};\n",
              "})(self);\n",
              "</script> "
            ],
            "text/plain": [
              "<IPython.core.display.HTML object>"
            ]
          },
          "metadata": {},
          "output_type": "display_data"
        },
        {
          "name": "stdout",
          "output_type": "stream",
          "text": [
            "Saving bbcpersian.json to bbcpersian (1).json\n"
          ]
        }
      ],
      "source": [
        "uploaded = files.upload()\n",
        "filename = list(uploaded.keys())[0]"
      ]
    },
    {
      "cell_type": "markdown",
      "metadata": {
        "id": "qer6-4ynAGxV"
      },
      "source": [
        "## Read dataset and extract titles and bodies"
      ]
    },
    {
      "cell_type": "code",
      "execution_count": null,
      "metadata": {
        "id": "tKXossHD_dNM"
      },
      "outputs": [],
      "source": [
        "with open(filename, 'r', encoding='utf-8') as f:\n",
        "    data = json.load(f)\n",
        "\n",
        "# extract Titles and Bodies\n",
        "titles = [item['title'] for item in data]\n",
        "bodies = [item['body'] for item in data]"
      ]
    },
    {
      "cell_type": "markdown",
      "metadata": {
        "id": "l41FkPAdAOxE"
      },
      "source": [
        "## Define Normalizer, Tokenizer, Stemmer, Lemmatizer, stop words"
      ]
    },
    {
      "cell_type": "code",
      "execution_count": null,
      "metadata": {
        "colab": {
          "base_uri": "https://localhost:8080/"
        },
        "id": "Wxnu1FaI_k0T",
        "outputId": "9b50c39e-9f20-4996-f105-36e3f2af37db"
      },
      "outputs": [
        {
          "name": "stderr",
          "output_type": "stream",
          "text": [
            "\r 19%|█▉        | 723/3780 [1:14:45<5:16:07,  6.20s/it]\n"
          ]
        }
      ],
      "source": [
        "normalizer = Normalizer()\n",
        "tokenizer = WordTokenizer()\n",
        "stemmer = Stemmer()\n",
        "lemmatizer = Lemmatizer()\n",
        "stop_words = set(stopwords_list())"
      ]
    },
    {
      "cell_type": "markdown",
      "metadata": {
        "id": "UTYppXXqAYbs"
      },
      "source": [
        "## Preprocessing"
      ]
    },
    {
      "cell_type": "code",
      "execution_count": null,
      "metadata": {
        "id": "VOwjZoBx_l81"
      },
      "outputs": [],
      "source": [
        "def preprocess(text):\n",
        "    text = normalizer.normalize(text)\n",
        "    tokens = tokenizer.tokenize(text)\n",
        "    tokens = [t for t in tokens if t not in stop_words]\n",
        "    tokens = [lemmatizer.lemmatize(stemmer.stem(t)) for t in tokens]\n",
        "    return \" \".join(tokens)"
      ]
    },
    {
      "cell_type": "markdown",
      "metadata": {
        "id": "6-xld5KKAjgb"
      },
      "source": [
        "## Preprocess documents, apply vectorization and indexing"
      ]
    },
    {
      "cell_type": "code",
      "execution_count": null,
      "metadata": {
        "colab": {
          "base_uri": "https://localhost:8080/"
        },
        "id": "44GNxj8E_nLp",
        "outputId": "d64eab33-ae31-4005-d99b-2a721b269ea7"
      },
      "outputs": [
        {
          "name": "stderr",
          "output_type": "stream",
          "text": [
            "100%|██████████| 3780/3780 [00:44<00:00, 84.45it/s]\n"
          ]
        }
      ],
      "source": [
        "documents = [preprocess(text) for text in tqdm(bodies)]\n",
        "\n",
        "vectorizer = TfidfVectorizer()\n",
        "doc_vectors = vectorizer.fit_transform(documents)\n",
        "index = faiss.IndexFlatIP(doc_vectors.shape[1])\n",
        "index.add(doc_vectors.toarray())"
      ]
    },
    {
      "cell_type": "code",
      "execution_count": null,
      "metadata": {
        "id": "gs7tneN9Cdgy"
      },
      "outputs": [],
      "source": [
        "FEEDBACK_FILE = \"feedback_memory.pkl\"\n",
        "\n",
        "if os.path.exists(FEEDBACK_FILE):\n",
        "    with open(FEEDBACK_FILE, \"rb\") as f:\n",
        "        feedback_memory = pickle.load(f)\n",
        "else:\n",
        "    feedback_memory = {}\n"
      ]
    },
    {
      "cell_type": "code",
      "execution_count": null,
      "metadata": {
        "id": "yigRR9TEHEp4"
      },
      "outputs": [],
      "source": [
        "def apply_rocchio(query_vec, relevant_vecs, nonrelevant_vecs, alpha=1.0, beta=0.75, gamma=0.25):\n",
        "    if len(relevant_vecs) > 0:\n",
        "        relevant_centroid = np.mean(relevant_vecs, axis=0)\n",
        "    else:\n",
        "        relevant_centroid = 0\n",
        "\n",
        "    if len(nonrelevant_vecs) > 0:\n",
        "        nonrelevant_centroid = np.mean(nonrelevant_vecs, axis=0)\n",
        "    else:\n",
        "        nonrelevant_centroid = 0\n",
        "\n",
        "    updated_vec = alpha * query_vec + beta * relevant_centroid - gamma * nonrelevant_centroid\n",
        "    return normalize(updated_vec.reshape(1, -1))[0]"
      ]
    },
    {
      "cell_type": "code",
      "execution_count": null,
      "metadata": {
        "id": "jgdklF_PDS4x"
      },
      "outputs": [],
      "source": [
        "def get_user_feedback(results):\n",
        "    print(\"\\nInitial results:\")\n",
        "    for idx, (real_index, score) in enumerate(results):\n",
        "        score_percent = round(score * 100, 2)\n",
        "        print(f\"[{idx}] Title: {titles[real_index]} ({score_percent}%)\\n→ Body:{documents[real_index][:60]}...\\n\")\n",
        "\n",
        "    input_str = input(\"Enter relevant result number (e.g. 1 3): \")\n",
        "    relevant_indices = list(map(int, input_str.strip().split()))\n",
        "\n",
        "    relevant_vecs, nonrelevant_vecs = [], []\n",
        "\n",
        "    for idx, (real_index, score) in enumerate(results):\n",
        "        vec = doc_vectors[real_index].toarray().astype(np.float32)[0]\n",
        "        if idx in relevant_indices:\n",
        "            relevant_vecs.append(vec)\n",
        "        else:\n",
        "            nonrelevant_vecs.append(vec)\n",
        "\n",
        "    return relevant_vecs, nonrelevant_vecs"
      ]
    },
    {
      "cell_type": "code",
      "execution_count": null,
      "metadata": {
        "id": "lP1WEKFFDZBE"
      },
      "outputs": [],
      "source": [
        "def run_feedback_search():\n",
        "    query = input(\"Your query: \").strip()\n",
        "\n",
        "    if query in feedback_memory:\n",
        "        query_vec = feedback_memory[query]\n",
        "        print(\"Using previous vector of this query...\")\n",
        "        D, I = index.search(query_vec.reshape(1, -1), 5)\n",
        "        results = list(zip(I[0], D[0]))\n",
        "        for idx, (real_index, score) in enumerate(results):\n",
        "          score_percent = round(score * 100, 2)\n",
        "          print(f\"[{idx}] Title: {titles[real_index]} ({score_percent}%)\\n→ Body: {documents[real_index][:60]}...\\n\")\n",
        "        return\n",
        "\n",
        "    else:\n",
        "        query_vec = vectorizer.transform([query]).toarray().astype(np.float32)\n",
        "        query_vec = normalize(query_vec)[0]\n",
        "\n",
        "    # search\n",
        "    D, I = index.search(query_vec.reshape(1, -1), 5)\n",
        "    results = list(zip(I[0], D[0]))\n",
        "\n",
        "    # show results and collect feedback\n",
        "    relevant_vecs, nonrelevant_vecs = get_user_feedback(results)\n",
        "\n",
        "    # update with Rocchio\n",
        "    updated_vec = apply_rocchio(query_vec, relevant_vecs, nonrelevant_vecs)\n",
        "\n",
        "    # save updated vector\n",
        "    feedback_memory[query] = updated_vec\n",
        "    with open(FEEDBACK_FILE, \"wb\") as f:\n",
        "        pickle.dump(feedback_memory, f)\n",
        "\n",
        "    print(\"Model updated.\")\n"
      ]
    },
    {
      "cell_type": "markdown",
      "metadata": {
        "id": "q9zbPgizTiCp"
      },
      "source": [
        "## Example 1"
      ]
    },
    {
      "cell_type": "code",
      "execution_count": null,
      "metadata": {
        "colab": {
          "base_uri": "https://localhost:8080/"
        },
        "id": "Xb2jWMY6Ddw8",
        "outputId": "6c7c08f3-6402-4b4a-feeb-b83be18f1b60"
      },
      "outputs": [
        {
          "name": "stdout",
          "output_type": "stream",
          "text": [
            "Your query: قرارداد\n",
            "\n",
            "Initial results:\n",
            "[0] Title: سند همکاری ایران و چین؛ 'شر در جزئیات نهفته است' (44.59%)\n",
            "→ Body:سیاو اردلانبی‌بی‌س قضاو قرارداد ۲۵ ایر چین نامیده خارج چارچو...\n",
            "\n",
            "[1] Title: کرسنت؛ غرامت '۶۰۰ میلیون دلاری' برای شرکت اماراتی در پرونده شکایت علیه ایران (38.77%)\n",
            "→ Body:شرک « دانا گاز » امار اعلا هیئ داور بین‌الملل پرونده شکا شرک...\n",
            "\n",
            "[2] Title: رابطه ایران و چین، موضوع کشمکش تازه سیاسی در ایران (37.22%)\n",
            "→ Body:فایل لطفا جاوا اسکریپ فعال مرورگر استفاده . رابطه ایر چین ، ...\n",
            "\n",
            "[3] Title: تابستان جذاب فوتبال اروپا؛ ستاره‌هایی که آزاد می‌شوند (28.99%)\n",
            "→ Body:باشگاه دوس بازیکن علاقه ارزان قیم بخرد ، این‌که دلیل شیوع کر...\n",
            "\n",
            "[4] Title: کارگری خود را کنار چاه نفت هویزه کشت (27.28%)\n",
            "→ Body:فایل لطفا جاوا اسکریپ فعال مرورگر استفاده . کارگر فعال مید ن...\n",
            "\n",
            "Enter relevant result number (e.g. 1 3): 0 2\n",
            "Model updated.\n"
          ]
        }
      ],
      "source": [
        "run_feedback_search()"
      ]
    },
    {
      "cell_type": "code",
      "execution_count": null,
      "metadata": {
        "colab": {
          "base_uri": "https://localhost:8080/"
        },
        "id": "JuX3VIblDfov",
        "outputId": "86720b53-fa83-4528-979e-9e9e17303fd5"
      },
      "outputs": [
        {
          "name": "stdout",
          "output_type": "stream",
          "text": [
            "Your query: قرارداد\n",
            "Using previous vector of this query...\n",
            "[0] Title: سند همکاری ایران و چین؛ 'شر در جزئیات نهفته است' (67.67%)\n",
            "→ Body: سیاو اردلانبی‌بی‌س قضاو قرارداد ۲۵ ایر چین نامیده خارج چارچو...\n",
            "\n",
            "[1] Title: رابطه ایران و چین، موضوع کشمکش تازه سیاسی در ایران (63.05%)\n",
            "→ Body: فایل لطفا جاوا اسکریپ فعال مرورگر استفاده . رابطه ایر چین ، ...\n",
            "\n",
            "[2] Title: دولت حامی و منتقدان عصبانی؛ از توافق ۲۵ ساله ایران و چین چه درز کرده؟ (38.31%)\n",
            "→ Body: جنجال توافق ۲۵ ایر چین ادامه . دول تاکید موضوع مخف نمایندگ م...\n",
            "\n",
            "[3] Title: سند همکاری‌ ایران و چین؛ 'حکمت‌آمیز' یا 'قرارداد ترکمن‌چای' (35.48%)\n",
            "→ Body: برنامه بلندمد همکاری ایر چین دول حسن روحان « سند راهبرد » مخ...\n",
            "\n",
            "[4] Title: کرسنت؛ غرامت '۶۰۰ میلیون دلاری' برای شرکت اماراتی در پرونده شکایت علیه ایران (34.14%)\n",
            "→ Body: شرک « دانا گاز » امار اعلا هیئ داور بین‌الملل پرونده شکا شرک...\n",
            "\n"
          ]
        }
      ],
      "source": [
        "run_feedback_search()"
      ]
    },
    {
      "cell_type": "markdown",
      "metadata": {
        "id": "qDXvpjp5Tj65"
      },
      "source": [
        "## Example 2"
      ]
    },
    {
      "cell_type": "code",
      "execution_count": null,
      "metadata": {
        "colab": {
          "base_uri": "https://localhost:8080/"
        },
        "id": "0GVL9SO5TmFZ",
        "outputId": "e3a3da07-8f59-42fc-9bdb-3011457d0a33"
      },
      "outputs": [
        {
          "name": "stdout",
          "output_type": "stream",
          "text": [
            "Your query: فوتبال انگلیس\n",
            "\n",
            "Initial results:\n",
            "[0] Title: پیش از کرونا چه چیزهایی فوتبال انگلیس را تعطیل کرد؟ (48.89%)\n",
            "→ Body:تماشاگر فوتبال انگلیس نقاط جه مشکل همه‌گیر جهان ویروس کرونا ...\n",
            "\n",
            "[1] Title: کرونا دنیای فوتبال دوستان را تیره و تار کرد؛ فوتبال انگلستان، آلمان و فرانسه تعلیق شد (41.67%)\n",
            "→ Body:فایل لطفا جاوا اسکریپ فعال مرورگر استفاده . کرونا دنیا فوتبا...\n",
            "\n",
            "[2] Title: نیمه‌نهایی یورو ۲۰۲۰: انگلیس با پیروزی مقابل دانمارک حریف ایتالیا در فینال شد (38.78%)\n",
            "→ Body:ت مل فوتبال انگلیس ۵۵ سال انتظار توانس فینال تورنمن ( جا جها...\n",
            "\n",
            "[3] Title: فینال یورو ۲۰۲۰؛ آرزوی بزرگ انگلیس و ایتالیا (38.44%)\n",
            "→ Body:پویا عنایتیخبرنگار دیدار #هست تورنمنت شیوع کرونا برگزار سال ...\n",
            "\n",
            "[4] Title: یورو ۲۰۲۰؛ مسابقه با دانمارک پس از شب رویایی انگلیس در رم (35.06%)\n",
            "→ Body:ت مل فوتبال انگلیس بازی تاریخ اوکراین گل شهر ر شکس . ت چهارش...\n",
            "\n",
            "Enter relevant result number (e.g. 1 3): 2 3 4\n",
            "Model updated.\n"
          ]
        }
      ],
      "source": [
        "run_feedback_search()"
      ]
    },
    {
      "cell_type": "code",
      "execution_count": null,
      "metadata": {
        "colab": {
          "base_uri": "https://localhost:8080/"
        },
        "id": "32zNoCB8VXBM",
        "outputId": "bb768181-7f4a-4e90-ef88-cb8f2abc22dc"
      },
      "outputs": [
        {
          "name": "stdout",
          "output_type": "stream",
          "text": [
            "Your query: فوتبال انگلیس\n",
            "Using previous vector of this query...\n",
            "[0] Title: نیمه‌نهایی یورو ۲۰۲۰: انگلیس با پیروزی مقابل دانمارک حریف ایتالیا در فینال شد (69.24%)\n",
            "→ Body: ت مل فوتبال انگلیس ۵۵ سال انتظار توانس فینال تورنمن ( جا جها...\n",
            "\n",
            "[1] Title: فینال یورو ۲۰۲۰؛ آرزوی بزرگ انگلیس و ایتالیا (67.46%)\n",
            "→ Body: پویا عنایتیخبرنگار دیدار #هست تورنمنت شیوع کرونا برگزار سال ...\n",
            "\n",
            "[2] Title: یورو ۲۰۲۰؛ مسابقه با دانمارک پس از شب رویایی انگلیس در رم (65.49%)\n",
            "→ Body: ت مل فوتبال انگلیس بازی تاریخ اوکراین گل شهر ر شکس . ت چهارش...\n",
            "\n",
            "[3] Title: نیمه‌نهایی یورو ۲۰۲۰؛ انگلیس-دانمارک: رویای ۶۶ یا رویای ۹۲؟ (57.04%)\n",
            "→ Body: غافلگیرکننده تیم یورو ۲۰۲۰ ؛ انگلیس دانمارک باز نیمه‌ن یورو ...\n",
            "\n",
            "[4] Title: قهرمانی ایتالیا در یورو ۲۰۲۰؛ مانچینی روی ابرها (46.9%)\n",
            "→ Body: پویا عنایتیخبرنگار پا تورنمن باشکوه یورو ۲۰۲۰ قهرمان ایتالیا...\n",
            "\n"
          ]
        }
      ],
      "source": [
        "run_feedback_search()"
      ]
    }
  ],
  "metadata": {
    "colab": {
      "provenance": []
    },
    "kernelspec": {
      "display_name": "Python 3",
      "name": "python3"
    },
    "language_info": {
      "name": "python"
    }
  },
  "nbformat": 4,
  "nbformat_minor": 0
}
