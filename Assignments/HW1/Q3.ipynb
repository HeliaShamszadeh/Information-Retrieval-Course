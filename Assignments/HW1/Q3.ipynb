{
  "nbformat": 4,
  "nbformat_minor": 0,
  "metadata": {
    "colab": {
      "provenance": []
    },
    "kernelspec": {
      "name": "python3",
      "display_name": "Python 3"
    },
    "language_info": {
      "name": "python"
    }
  },
  "cells": [
    {
      "cell_type": "markdown",
      "source": [
        "# Q3"
      ],
      "metadata": {
        "id": "aoMvfBSBDM5p"
      }
    },
    {
      "cell_type": "code",
      "execution_count": 1,
      "metadata": {
        "colab": {
          "base_uri": "https://localhost:8080/"
        },
        "id": "E7VjzZGSDL5l",
        "outputId": "64a55191-9009-4db7-b0ac-76ee091f3cf0"
      },
      "outputs": [
        {
          "metadata": {
            "tags": null
          },
          "name": "stdout",
          "output_type": "stream",
          "text": [
            "Collecting python-Levenshtein\n",
            "  Downloading python_levenshtein-0.27.1-py3-none-any.whl.metadata (3.7 kB)\n",
            "Collecting Levenshtein==0.27.1 (from python-Levenshtein)\n",
            "  Downloading levenshtein-0.27.1-cp311-cp311-manylinux_2_17_x86_64.manylinux2014_x86_64.whl.metadata (3.6 kB)\n",
            "Collecting rapidfuzz<4.0.0,>=3.9.0 (from Levenshtein==0.27.1->python-Levenshtein)\n",
            "  Downloading rapidfuzz-3.13.0-cp311-cp311-manylinux_2_17_x86_64.manylinux2014_x86_64.whl.metadata (12 kB)\n",
            "Downloading python_levenshtein-0.27.1-py3-none-any.whl (9.4 kB)\n",
            "Downloading levenshtein-0.27.1-cp311-cp311-manylinux_2_17_x86_64.manylinux2014_x86_64.whl (161 kB)\n",
            "\u001b[2K   \u001b[90m━━━━━━━━━━━━━━━━━━━━━━━━━━━━━━━━━━━━━━━━\u001b[0m \u001b[32m161.7/161.7 kB\u001b[0m \u001b[31m2.9 MB/s\u001b[0m eta \u001b[36m0:00:00\u001b[0m\n",
            "\u001b[?25hDownloading rapidfuzz-3.13.0-cp311-cp311-manylinux_2_17_x86_64.manylinux2014_x86_64.whl (3.1 MB)\n",
            "\u001b[2K   \u001b[90m━━━━━━━━━━━━━━━━━━━━━━━━━━━━━━━━━━━━━━━━\u001b[0m \u001b[32m3.1/3.1 MB\u001b[0m \u001b[31m34.2 MB/s\u001b[0m eta \u001b[36m0:00:00\u001b[0m\n",
            "\u001b[?25hInstalling collected packages: rapidfuzz, Levenshtein, python-Levenshtein\n",
            "Successfully installed Levenshtein-0.27.1 python-Levenshtein-0.27.1 rapidfuzz-3.13.0\n"
          ]
        }
      ],
      "source": [
        "!pip install python-Levenshtein"
      ]
    },
    {
      "cell_type": "code",
      "source": [
        "!python -m spacy download en_core_web_md"
      ],
      "metadata": {
        "colab": {
          "base_uri": "https://localhost:8080/"
        },
        "id": "8MbIxll-DToe",
        "outputId": "a89a1c47-32bf-43df-80dd-6eb884ac7d26"
      },
      "execution_count": 2,
      "outputs": [
        {
          "output_type": "stream",
          "name": "stdout",
          "text": [
            "Collecting en-core-web-md==3.8.0\n",
            "  Downloading https://github.com/explosion/spacy-models/releases/download/en_core_web_md-3.8.0/en_core_web_md-3.8.0-py3-none-any.whl (33.5 MB)\n",
            "\u001b[2K     \u001b[90m━━━━━━━━━━━━━━━━━━━━━━━━━━━━━━━━━━━━━━━━\u001b[0m \u001b[32m33.5/33.5 MB\u001b[0m \u001b[31m48.5 MB/s\u001b[0m eta \u001b[36m0:00:00\u001b[0m\n",
            "\u001b[?25hInstalling collected packages: en-core-web-md\n",
            "Successfully installed en-core-web-md-3.8.0\n",
            "\u001b[38;5;2m✔ Download and installation successful\u001b[0m\n",
            "You can now load the package via spacy.load('en_core_web_md')\n",
            "\u001b[38;5;3m⚠ Restart to reload dependencies\u001b[0m\n",
            "If you are in a Jupyter or Colab notebook, you may need to restart Python in\n",
            "order to load all the package's dependencies. You can do this by selecting the\n",
            "'Restart kernel' or 'Restart runtime' option.\n"
          ]
        }
      ]
    },
    {
      "cell_type": "markdown",
      "source": [
        "## Import libraries"
      ],
      "metadata": {
        "id": "tYUiKp7jIA9x"
      }
    },
    {
      "cell_type": "code",
      "source": [
        "import numpy as np\n",
        "import spacy\n",
        "from difflib import SequenceMatcher\n",
        "from Levenshtein import distance as edit_distance\n",
        "from nltk.util import ngrams\n",
        "from nltk.corpus import stopwords\n",
        "from collections import Counter\n",
        "import jellyfish"
      ],
      "metadata": {
        "id": "09rIXhf8DZGH"
      },
      "execution_count": 3,
      "outputs": []
    },
    {
      "cell_type": "code",
      "source": [
        "nlp = spacy.load(\"en_core_web_md\")"
      ],
      "metadata": {
        "id": "KGSCStuGDdZp"
      },
      "execution_count": 4,
      "outputs": []
    },
    {
      "cell_type": "markdown",
      "source": [
        "## K-gram Score Function"
      ],
      "metadata": {
        "id": "qh85ojO1IGLU"
      }
    },
    {
      "cell_type": "code",
      "source": [
        "def kgram_score(query, candidate, k=2):\n",
        "    def get_kgrams(text):\n",
        "        return set([''.join(gram) for gram in ngrams(text, k)])\n",
        "    q_k = get_kgrams(query.replace(\" \", \"\"))\n",
        "    c_k = get_kgrams(candidate.replace(\" \", \"\"))\n",
        "    return len(q_k & c_k) / len(q_k | c_k)"
      ],
      "metadata": {
        "id": "dbi_oZCJDt8B"
      },
      "execution_count": 7,
      "outputs": []
    },
    {
      "cell_type": "markdown",
      "source": [
        "## Noisy Channel Score"
      ],
      "metadata": {
        "id": "5Ou-KekQIKwl"
      }
    },
    {
      "cell_type": "code",
      "source": [
        "def noisy_channel_score(query, candidate):\n",
        "    return 1 - (edit_distance(query, candidate) / max(len(query), len(candidate)))"
      ],
      "metadata": {
        "id": "SCmo31TtDxQ5"
      },
      "execution_count": 8,
      "outputs": []
    },
    {
      "cell_type": "markdown",
      "source": [
        "## Sound Score Function"
      ],
      "metadata": {
        "id": "LPYTbT53IM98"
      }
    },
    {
      "cell_type": "code",
      "source": [
        "def sound_score(query, candidate):\n",
        "    q_sound = jellyfish.soundex(query)\n",
        "    c_sound = jellyfish.soundex(candidate)\n",
        "    if q_sound == c_sound:\n",
        "      return 1.0\n",
        "    else:\n",
        "      return 0.0"
      ],
      "metadata": {
        "id": "qqryZuyPD2of"
      },
      "execution_count": 9,
      "outputs": []
    },
    {
      "cell_type": "markdown",
      "source": [
        "## Semantic Score Function"
      ],
      "metadata": {
        "id": "JHiAMEoRIPLN"
      }
    },
    {
      "cell_type": "code",
      "source": [
        "def semantic_score(query, candidate):\n",
        "    q_vec = nlp(query).vector\n",
        "    c_vec = nlp(candidate).vector\n",
        "    if np.linalg.norm(q_vec) == 0 or np.linalg.norm(c_vec) == 0:\n",
        "        return 0.0\n",
        "    return np.dot(q_vec, c_vec) / (np.linalg.norm(q_vec) * np.linalg.norm(c_vec))\n"
      ],
      "metadata": {
        "id": "7iSHk9GSD5LP"
      },
      "execution_count": 10,
      "outputs": []
    },
    {
      "cell_type": "markdown",
      "source": [
        "## Correct Query Function"
      ],
      "metadata": {
        "id": "r43hdr-sIS8i"
      }
    },
    {
      "cell_type": "code",
      "source": [
        "def correct_query(query):\n",
        "    results = []\n",
        "    for c in candidates:\n",
        "        k = kgram_score(query, c)\n",
        "        n = noisy_channel_score(query, c)\n",
        "        s = sound_score(query, c)\n",
        "        sem = semantic_score(query, c)\n",
        "        final = (k + n + s + sem) / 4\n",
        "        results.append((c, final, k, n, sem, s))\n",
        "    results.sort(key=lambda x: x[1], reverse=True)\n",
        "    return results"
      ],
      "metadata": {
        "id": "5JqR8fTLD7Om"
      },
      "execution_count": 11,
      "outputs": []
    },
    {
      "cell_type": "markdown",
      "source": [
        "## Example 1"
      ],
      "metadata": {
        "id": "ReNnO7mTIWWN"
      }
    },
    {
      "cell_type": "code",
      "source": [
        "query = \"machin lernng\"\n",
        "\n",
        "candidates = [\n",
        "    \"machine learning\",\n",
        "    \"deep learning\",\n",
        "    \"reinforcement learning\"\n",
        "]\n",
        "\n",
        "res = correct_query(query)\n",
        "\n",
        "print(f\"{'query':<25} | final score  | k-gram  | noise  | context  | sound\")\n",
        "print(\"-\"*80)\n",
        "for c, f, k, n, ctx, s in res:\n",
        "    print(f\"{c:<25} | {f:.4f}       | {k:.4f}  | {n:.4f} | {ctx:.4f}   | {s:.4f}\")"
      ],
      "metadata": {
        "colab": {
          "base_uri": "https://localhost:8080/"
        },
        "id": "aZo-ugEdD-B4",
        "outputId": "fe45083b-9e7b-4f70-83d9-4e37705ba797"
      },
      "execution_count": 12,
      "outputs": [
        {
          "output_type": "stream",
          "name": "stdout",
          "text": [
            "query                     | final score  | k-gram  | noise  | context  | sound\n",
            "--------------------------------------------------------------------------------\n",
            "machine learning          | 0.5572       | 0.5000  | 0.8125 | -0.0838   | 1.0000\n",
            "deep learning             | 0.1331       | 0.2222  | 0.3846 | -0.0745   | 0.0000\n",
            "reinforcement learning    | 0.1283       | 0.1538  | 0.4091 | -0.0496   | 0.0000\n"
          ]
        }
      ]
    },
    {
      "cell_type": "markdown",
      "source": [
        "## Example 2"
      ],
      "metadata": {
        "id": "BZiq1EWNIYIc"
      }
    },
    {
      "cell_type": "code",
      "source": [
        "query = \"forrest gomp\"\n",
        "\n",
        "candidates = [\n",
        "    \"forrest gump\",\n",
        "    \"forest gum\",\n",
        "    \"forrest dump\"\n",
        "]\n",
        "\n",
        "res = correct_query(query)\n",
        "\n",
        "print(f\"{'query':<25} | final score  | k-gram  | noise  | context  | sound\")\n",
        "print(\"-\"*80)\n",
        "for c, f, k, n, ctx, s in res:\n",
        "    print(f\"{c:<25} | {f:.4f}       | {k:.4f}  | {n:.4f} | {ctx:.4f}   | {s:.4f}\")\n"
      ],
      "metadata": {
        "colab": {
          "base_uri": "https://localhost:8080/"
        },
        "id": "OeiH2VZ6Hi5X",
        "outputId": "c17b87cc-f8ba-4631-f5a5-f9a90931bd79"
      },
      "execution_count": 14,
      "outputs": [
        {
          "output_type": "stream",
          "name": "stdout",
          "text": [
            "query                     | final score  | k-gram  | noise  | context  | sound\n",
            "--------------------------------------------------------------------------------\n",
            "forrest gump              | 0.8533       | 0.6667  | 0.9167 | 0.8298   | 1.0000\n",
            "forrest dump              | 0.7954       | 0.5385  | 0.8333 | 0.8098   | 1.0000\n",
            "forest gum                | 0.5926       | 0.5000  | 0.7500 | 0.1203   | 1.0000\n"
          ]
        }
      ]
    }
  ]
}